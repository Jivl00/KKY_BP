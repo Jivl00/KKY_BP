{
 "cells": [
  {
   "cell_type": "code",
   "execution_count": 1,
   "metadata": {
    "collapsed": false,
    "jupyter": {
     "outputs_hidden": false
    },
    "pycharm": {
     "name": "#%%\n"
    }
   },
   "outputs": [],
   "source": [
    "import os\n",
    "import warnings\n",
    "import numpy as np\n",
    "\n",
    "warnings.filterwarnings(\"ignore\")\n",
    "\n",
    "os.environ['TF_CPP_MIN_LOG_LEVEL'] = '3'  # shut up tensorflow debug messages\n",
    "\n",
    "# Force use CPU\n",
    "os.environ[\"CUDA_DEVICE_ORDER\"] = \"PCI_BUS_ID\"  # see issue #152\n",
    "os.environ[\"CUDA_VISIBLE_DEVICES\"] = \"\"\n",
    "\n",
    "from tensorflow.keras.models import load_model\n",
    "\n",
    "\n",
    "def line2list(line):\n",
    "    return line.strip().split(',')\n",
    "\n",
    "\n",
    "def get_limits(feature, samples):\n",
    "    \"\"\" Given a feature, get the minimal and maximal values \"\"\"\n",
    "\n",
    "    vals_this_feature = [sample[feature] for sample in samples.values()]\n",
    "\n",
    "    return np.min(vals_this_feature), np.max(vals_this_feature)\n",
    "\n",
    "\n",
    "def norm(val, low, high, new_low=0, new_high=1):\n",
    "    \"\"\" Linearly scale a value from range <low, high> into\n",
    "        a new range <new_low, new_high>\n",
    "    \"\"\"\n",
    "\n",
    "    return (new_high - new_low) / (high - low) * (val - low) + new_low\n",
    "\n",
    "\n",
    "def read_data(data_file):\n",
    "    \"\"\" Read and normalize data\n",
    "    returns: samples, targets (dicts keyed by a sample index)\n",
    "    sample: dict keyed by a feature name\n",
    "    target: binary value of {0, 1}\n",
    "    \"\"\"\n",
    "\n",
    "    samples = {}\n",
    "    targets = {}\n",
    "\n",
    "    # Read data (encoding='utf-8-sig' => omit BOM)\n",
    "    with open(data_file, 'r', encoding='utf-8-sig') as cfr:\n",
    "\n",
    "        # Read feature names (CSV header), last col ~ target\n",
    "        features = line2list(cfr.readline())[:-1]\n",
    "\n",
    "        # Read samples and targets, add them to dicts (key ~ index)\n",
    "        for ind, line in enumerate(cfr.readlines()):\n",
    "            vals = line2list(line)\n",
    "\n",
    "            # Feature vector representing a sample\n",
    "            samples[ind] = {feature: float(val) for feature, val in zip(features, vals[:-1])}\n",
    "\n",
    "            # Corresponding target\n",
    "            targets[ind] = float(vals[-1])\n",
    "\n",
    "    # Get limits and normalize samples\n",
    "\n",
    "    for feature in features:\n",
    "        low, high = get_limits(feature, samples)\n",
    "        for sample in samples.values():\n",
    "            sample[feature] = norm(sample[feature], low, high)\n",
    "\n",
    "    return samples, targets, sorted(features)\n",
    "\n",
    "\n",
    "def split_data(targets, split_ratio=(0.8, 0.1, 0.1), seed=1):\n",
    "    \"\"\" Split data to disjunctive sets: train, dev, test\n",
    "        return: dict\n",
    "            keys: 'train', 'dev', 'test\n",
    "            values: list of samples indices\n",
    "    \"\"\"\n",
    "\n",
    "    split = {'train': [], 'dev': [], 'test': []}\n",
    "\n",
    "    # Set random seed for shuffling this split\n",
    "    np.random.seed(seed)\n",
    "\n",
    "    ## Carefully and equally distribute positive and negative samples\n",
    "    negs = [ind for ind, val in targets.items() if val == 0.0]\n",
    "    poss = [ind for ind, val in targets.items() if val == 1.0]\n",
    "\n",
    "    for kind in (negs, poss):\n",
    "        np.random.shuffle(kind)\n",
    "        for i, ind in enumerate(kind):\n",
    "            if i / len(kind) < split_ratio[0]:\n",
    "                split['train'].append(ind)\n",
    "            elif split_ratio[0] < i / len(kind) < split_ratio[0] + split_ratio[1]:\n",
    "                split['dev'].append(ind)\n",
    "            else:\n",
    "                split['test'].append(ind)\n",
    "\n",
    "    return split\n",
    "\n",
    "\n",
    "def form_data(samples, targets, split, feats):\n",
    "    \"\"\" Prepare matrices for machine learning in Keras\n",
    "        return dict with keys: 'x_train', 'y_train', 'x_dev', 'y_dev', 'x_test', 'y_test'\n",
    "    \"\"\"\n",
    "\n",
    "    data = {}\n",
    "    for group, inds in split.items():\n",
    "        data['x_' + group] = np.array([[samples[ind][f] for f in feats] for ind in inds])\n",
    "        data['y_' + group] = np.array([targets[ind] for ind in inds], ndmin=2).T\n",
    "\n",
    "    return data\n"
   ]
  },
  {
   "cell_type": "markdown",
   "metadata": {
    "pycharm": {
     "name": "#%% md\n"
    }
   },
   "source": [
    "## Spusteni pro testovaci data nebo pro data cela"
   ]
  },
  {
   "cell_type": "code",
   "execution_count": 2,
   "metadata": {
    "collapsed": false,
    "jupyter": {
     "outputs_hidden": false
    },
    "pycharm": {
     "name": "#%%\n"
    }
   },
   "outputs": [],
   "source": [
    "DATA_SPLIT_RATIO = (0.8, 0.1, 0.1)  # test data\n",
    "# DATA_SPLIT_RATIO = (0, 0, 1)  # all data"
   ]
  },
  {
   "cell_type": "code",
   "execution_count": null,
   "metadata": {
    "collapsed": false,
    "jupyter": {
     "outputs_hidden": false
    },
    "pycharm": {
     "name": "#%%\n"
    }
   },
   "outputs": [
    {
     "name": "stderr",
     "output_type": "stream",
     "text": [
      "ERROR:root:Internal Python error in the inspect module.\n",
      "Below is the traceback from this internal error.\n",
      "\n",
      "ERROR:root:Internal Python error in the inspect module.\n",
      "Below is the traceback from this internal error.\n",
      "\n",
      "ERROR:root:Internal Python error in the inspect module.\n",
      "Below is the traceback from this internal error.\n",
      "\n"
     ]
    },
    {
     "name": "stdout",
     "output_type": "stream",
     "text": [
      "ERROR! Session/line number was not unique in database. History logging moved to new session 280\n",
      "Traceback (most recent call last):\n",
      "  File \"/Users/kitt/miniconda3/envs/net/lib/python3.7/site-packages/IPython/core/interactiveshell.py\", line 3441, in run_code\n",
      "    exec(code_obj, self.user_global_ns, self.user_ns)\n",
      "  File \"<ipython-input-3-6f4073d77395>\", line 20, in <module>\n",
      "    model = load_model(evaluated_model)\n",
      "  File \"/Users/kitt/miniconda3/envs/net/lib/python3.7/site-packages/tensorflow_core/python/keras/saving/save.py\", line 149, in load_model\n",
      "    loader_impl.parse_saved_model(filepath)\n",
      "  File \"/Users/kitt/miniconda3/envs/net/lib/python3.7/site-packages/tensorflow_core/python/saved_model/loader_impl.py\", line 83, in parse_saved_model\n",
      "    constants.SAVED_MODEL_FILENAME_PB))\n",
      "OSError: SavedModel file does not exist at: ../best_model/best.h5/{saved_model.pbtxt|saved_model.pb}\n",
      "\n",
      "During handling of the above exception, another exception occurred:\n",
      "\n",
      "Traceback (most recent call last):\n",
      "  File \"/Users/kitt/miniconda3/envs/net/lib/python3.7/site-packages/IPython/core/interactiveshell.py\", line 2061, in showtraceback\n",
      "    stb = value._render_traceback_()\n",
      "AttributeError: 'OSError' object has no attribute '_render_traceback_'\n",
      "\n",
      "During handling of the above exception, another exception occurred:\n",
      "\n",
      "Traceback (most recent call last):\n",
      "  File \"/Users/kitt/miniconda3/envs/net/lib/python3.7/site-packages/IPython/core/ultratb.py\", line 1101, in get_records\n",
      "    return _fixed_getinnerframes(etb, number_of_lines_of_context, tb_offset)\n",
      "  File \"/Users/kitt/miniconda3/envs/net/lib/python3.7/site-packages/IPython/core/ultratb.py\", line 248, in wrapped\n",
      "    return f(*args, **kwargs)\n",
      "  File \"/Users/kitt/miniconda3/envs/net/lib/python3.7/site-packages/IPython/core/ultratb.py\", line 281, in _fixed_getinnerframes\n",
      "    records = fix_frame_records_filenames(inspect.getinnerframes(etb, context))\n",
      "  File \"/Users/kitt/miniconda3/envs/net/lib/python3.7/inspect.py\", line 1502, in getinnerframes\n",
      "    frameinfo = (tb.tb_frame,) + getframeinfo(tb, context)\n",
      "  File \"/Users/kitt/miniconda3/envs/net/lib/python3.7/inspect.py\", line 1460, in getframeinfo\n",
      "    filename = getsourcefile(frame) or getfile(frame)\n",
      "  File \"/Users/kitt/miniconda3/envs/net/lib/python3.7/inspect.py\", line 696, in getsourcefile\n",
      "    if getattr(getmodule(object, filename), '__loader__', None) is not None:\n",
      "  File \"/Users/kitt/miniconda3/envs/net/lib/python3.7/inspect.py\", line 733, in getmodule\n",
      "    if ismodule(module) and hasattr(module, '__file__'):\n",
      "  File \"/Users/kitt/miniconda3/envs/net/lib/python3.7/site-packages/tensorflow/__init__.py\", line 50, in __getattr__\n",
      "    module = self._load()\n",
      "  File \"/Users/kitt/miniconda3/envs/net/lib/python3.7/site-packages/tensorflow/__init__.py\", line 44, in _load\n",
      "    module = _importlib.import_module(self.__name__)\n",
      "  File \"/Users/kitt/miniconda3/envs/net/lib/python3.7/importlib/__init__.py\", line 127, in import_module\n",
      "    return _bootstrap._gcd_import(name[level:], package, level)\n",
      "  File \"<frozen importlib._bootstrap>\", line 1006, in _gcd_import\n",
      "  File \"<frozen importlib._bootstrap>\", line 983, in _find_and_load\n",
      "  File \"<frozen importlib._bootstrap>\", line 965, in _find_and_load_unlocked\n",
      "ModuleNotFoundError: No module named 'tensorflow_core.estimator'\n",
      "Traceback (most recent call last):\n",
      "  File \"/Users/kitt/miniconda3/envs/net/lib/python3.7/site-packages/IPython/core/interactiveshell.py\", line 3441, in run_code\n",
      "    exec(code_obj, self.user_global_ns, self.user_ns)\n",
      "  File \"<ipython-input-3-6f4073d77395>\", line 20, in <module>\n",
      "    model = load_model(evaluated_model)\n",
      "  File \"/Users/kitt/miniconda3/envs/net/lib/python3.7/site-packages/tensorflow_core/python/keras/saving/save.py\", line 149, in load_model\n",
      "    loader_impl.parse_saved_model(filepath)\n",
      "  File \"/Users/kitt/miniconda3/envs/net/lib/python3.7/site-packages/tensorflow_core/python/saved_model/loader_impl.py\", line 83, in parse_saved_model\n",
      "    constants.SAVED_MODEL_FILENAME_PB))\n",
      "OSError: SavedModel file does not exist at: ../best_model/best.h5/{saved_model.pbtxt|saved_model.pb}\n",
      "\n",
      "During handling of the above exception, another exception occurred:\n",
      "\n",
      "Traceback (most recent call last):\n",
      "  File \"/Users/kitt/miniconda3/envs/net/lib/python3.7/site-packages/IPython/core/interactiveshell.py\", line 2061, in showtraceback\n",
      "    stb = value._render_traceback_()\n",
      "AttributeError: 'OSError' object has no attribute '_render_traceback_'\n",
      "\n",
      "During handling of the above exception, another exception occurred:\n",
      "\n",
      "Traceback (most recent call last):\n",
      "  File \"/Users/kitt/miniconda3/envs/net/lib/python3.7/site-packages/IPython/core/interactiveshell.py\", line 3361, in run_ast_nodes\n",
      "    if (await self.run_code(code, result,  async_=asy)):\n",
      "  File \"/Users/kitt/miniconda3/envs/net/lib/python3.7/site-packages/IPython/core/interactiveshell.py\", line 3458, in run_code\n",
      "    self.showtraceback(running_compiled_code=True)\n",
      "  File \"/Users/kitt/miniconda3/envs/net/lib/python3.7/site-packages/IPython/core/interactiveshell.py\", line 2064, in showtraceback\n",
      "    value, tb, tb_offset=tb_offset)\n",
      "  File \"/Users/kitt/miniconda3/envs/net/lib/python3.7/site-packages/IPython/core/ultratb.py\", line 1368, in structured_traceback\n",
      "    self, etype, value, tb, tb_offset, number_of_lines_of_context)\n",
      "  File \"/Users/kitt/miniconda3/envs/net/lib/python3.7/site-packages/IPython/core/ultratb.py\", line 1268, in structured_traceback\n",
      "    self, etype, value, tb, tb_offset, number_of_lines_of_context\n",
      "  File \"/Users/kitt/miniconda3/envs/net/lib/python3.7/site-packages/IPython/core/ultratb.py\", line 1125, in structured_traceback\n",
      "    tb_offset)\n",
      "  File \"/Users/kitt/miniconda3/envs/net/lib/python3.7/site-packages/IPython/core/ultratb.py\", line 1082, in format_exception_as_a_whole\n",
      "    last_unique, recursion_repeat = find_recursion(orig_etype, evalue, records)\n",
      "  File \"/Users/kitt/miniconda3/envs/net/lib/python3.7/site-packages/IPython/core/ultratb.py\", line 382, in find_recursion\n",
      "    return len(records), 0\n",
      "TypeError: object of type 'NoneType' has no len()\n",
      "\n",
      "During handling of the above exception, another exception occurred:\n",
      "\n",
      "Traceback (most recent call last):\n",
      "  File \"/Users/kitt/miniconda3/envs/net/lib/python3.7/site-packages/IPython/core/interactiveshell.py\", line 2061, in showtraceback\n",
      "    stb = value._render_traceback_()\n",
      "AttributeError: 'TypeError' object has no attribute '_render_traceback_'\n",
      "\n",
      "During handling of the above exception, another exception occurred:\n",
      "\n",
      "Traceback (most recent call last):\n",
      "  File \"/Users/kitt/miniconda3/envs/net/lib/python3.7/site-packages/IPython/core/ultratb.py\", line 1101, in get_records\n",
      "    return _fixed_getinnerframes(etb, number_of_lines_of_context, tb_offset)\n",
      "  File \"/Users/kitt/miniconda3/envs/net/lib/python3.7/site-packages/IPython/core/ultratb.py\", line 248, in wrapped\n",
      "    return f(*args, **kwargs)\n",
      "  File \"/Users/kitt/miniconda3/envs/net/lib/python3.7/site-packages/IPython/core/ultratb.py\", line 281, in _fixed_getinnerframes\n",
      "    records = fix_frame_records_filenames(inspect.getinnerframes(etb, context))\n",
      "  File \"/Users/kitt/miniconda3/envs/net/lib/python3.7/inspect.py\", line 1502, in getinnerframes\n",
      "    frameinfo = (tb.tb_frame,) + getframeinfo(tb, context)\n",
      "  File \"/Users/kitt/miniconda3/envs/net/lib/python3.7/inspect.py\", line 1460, in getframeinfo\n",
      "    filename = getsourcefile(frame) or getfile(frame)\n",
      "  File \"/Users/kitt/miniconda3/envs/net/lib/python3.7/inspect.py\", line 696, in getsourcefile\n",
      "    if getattr(getmodule(object, filename), '__loader__', None) is not None:\n",
      "  File \"/Users/kitt/miniconda3/envs/net/lib/python3.7/inspect.py\", line 733, in getmodule\n",
      "    if ismodule(module) and hasattr(module, '__file__'):\n",
      "  File \"/Users/kitt/miniconda3/envs/net/lib/python3.7/site-packages/tensorflow/__init__.py\", line 50, in __getattr__\n",
      "    module = self._load()\n",
      "  File \"/Users/kitt/miniconda3/envs/net/lib/python3.7/site-packages/tensorflow/__init__.py\", line 44, in _load\n",
      "    module = _importlib.import_module(self.__name__)\n",
      "  File \"/Users/kitt/miniconda3/envs/net/lib/python3.7/importlib/__init__.py\", line 127, in import_module\n",
      "    return _bootstrap._gcd_import(name[level:], package, level)\n",
      "  File \"<frozen importlib._bootstrap>\", line 1006, in _gcd_import\n",
      "  File \"<frozen importlib._bootstrap>\", line 983, in _find_and_load\n",
      "  File \"<frozen importlib._bootstrap>\", line 965, in _find_and_load_unlocked\n",
      "ModuleNotFoundError: No module named 'tensorflow_core.estimator'\n",
      "Traceback (most recent call last):\n",
      "  File \"/Users/kitt/miniconda3/envs/net/lib/python3.7/site-packages/IPython/core/interactiveshell.py\", line 3441, in run_code\n",
      "    exec(code_obj, self.user_global_ns, self.user_ns)\n",
      "  File \"<ipython-input-3-6f4073d77395>\", line 20, in <module>\n",
      "    model = load_model(evaluated_model)\n",
      "  File \"/Users/kitt/miniconda3/envs/net/lib/python3.7/site-packages/tensorflow_core/python/keras/saving/save.py\", line 149, in load_model\n",
      "    loader_impl.parse_saved_model(filepath)\n",
      "  File \"/Users/kitt/miniconda3/envs/net/lib/python3.7/site-packages/tensorflow_core/python/saved_model/loader_impl.py\", line 83, in parse_saved_model\n",
      "    constants.SAVED_MODEL_FILENAME_PB))\n",
      "OSError: SavedModel file does not exist at: ../best_model/best.h5/{saved_model.pbtxt|saved_model.pb}\n",
      "\n",
      "During handling of the above exception, another exception occurred:\n",
      "\n",
      "Traceback (most recent call last):\n",
      "  File \"/Users/kitt/miniconda3/envs/net/lib/python3.7/site-packages/IPython/core/interactiveshell.py\", line 2061, in showtraceback\n",
      "    stb = value._render_traceback_()\n",
      "AttributeError: 'OSError' object has no attribute '_render_traceback_'\n",
      "\n",
      "During handling of the above exception, another exception occurred:\n",
      "\n",
      "Traceback (most recent call last):\n",
      "  File \"/Users/kitt/miniconda3/envs/net/lib/python3.7/site-packages/IPython/core/interactiveshell.py\", line 3361, in run_ast_nodes\n",
      "    if (await self.run_code(code, result,  async_=asy)):\n",
      "  File \"/Users/kitt/miniconda3/envs/net/lib/python3.7/site-packages/IPython/core/interactiveshell.py\", line 3458, in run_code\n",
      "    self.showtraceback(running_compiled_code=True)\n",
      "  File \"/Users/kitt/miniconda3/envs/net/lib/python3.7/site-packages/IPython/core/interactiveshell.py\", line 2064, in showtraceback\n",
      "    value, tb, tb_offset=tb_offset)\n",
      "  File \"/Users/kitt/miniconda3/envs/net/lib/python3.7/site-packages/IPython/core/ultratb.py\", line 1368, in structured_traceback\n",
      "    self, etype, value, tb, tb_offset, number_of_lines_of_context)\n",
      "  File \"/Users/kitt/miniconda3/envs/net/lib/python3.7/site-packages/IPython/core/ultratb.py\", line 1268, in structured_traceback\n",
      "    self, etype, value, tb, tb_offset, number_of_lines_of_context\n",
      "  File \"/Users/kitt/miniconda3/envs/net/lib/python3.7/site-packages/IPython/core/ultratb.py\", line 1125, in structured_traceback\n",
      "    tb_offset)\n",
      "  File \"/Users/kitt/miniconda3/envs/net/lib/python3.7/site-packages/IPython/core/ultratb.py\", line 1082, in format_exception_as_a_whole\n",
      "    last_unique, recursion_repeat = find_recursion(orig_etype, evalue, records)\n",
      "  File \"/Users/kitt/miniconda3/envs/net/lib/python3.7/site-packages/IPython/core/ultratb.py\", line 382, in find_recursion\n",
      "    return len(records), 0\n",
      "TypeError: object of type 'NoneType' has no len()\n",
      "\n",
      "During handling of the above exception, another exception occurred:\n",
      "\n",
      "Traceback (most recent call last):\n",
      "  File \"/Users/kitt/miniconda3/envs/net/lib/python3.7/site-packages/IPython/core/interactiveshell.py\", line 2061, in showtraceback\n",
      "    stb = value._render_traceback_()\n",
      "AttributeError: 'TypeError' object has no attribute '_render_traceback_'\n",
      "\n",
      "During handling of the above exception, another exception occurred:\n",
      "\n",
      "Traceback (most recent call last):\n",
      "  File \"/Users/kitt/miniconda3/envs/net/lib/python3.7/site-packages/IPython/core/interactiveshell.py\", line 2944, in _run_cell\n",
      "    return runner(coro)\n",
      "  File \"/Users/kitt/miniconda3/envs/net/lib/python3.7/site-packages/IPython/core/async_helpers.py\", line 68, in _pseudo_sync_runner\n",
      "    coro.send(None)\n",
      "  File \"/Users/kitt/miniconda3/envs/net/lib/python3.7/site-packages/IPython/core/interactiveshell.py\", line 3170, in run_cell_async\n",
      "    interactivity=interactivity, compiler=compiler, result=result)\n",
      "  File \"/Users/kitt/miniconda3/envs/net/lib/python3.7/site-packages/IPython/core/interactiveshell.py\", line 3380, in run_ast_nodes\n",
      "    self.showtraceback()\n",
      "  File \"/Users/kitt/miniconda3/envs/net/lib/python3.7/site-packages/IPython/core/interactiveshell.py\", line 2064, in showtraceback\n",
      "    value, tb, tb_offset=tb_offset)\n",
      "  File \"/Users/kitt/miniconda3/envs/net/lib/python3.7/site-packages/IPython/core/ultratb.py\", line 1368, in structured_traceback\n",
      "    self, etype, value, tb, tb_offset, number_of_lines_of_context)\n",
      "  File \"/Users/kitt/miniconda3/envs/net/lib/python3.7/site-packages/IPython/core/ultratb.py\", line 1268, in structured_traceback\n",
      "    self, etype, value, tb, tb_offset, number_of_lines_of_context\n",
      "  File \"/Users/kitt/miniconda3/envs/net/lib/python3.7/site-packages/IPython/core/ultratb.py\", line 1143, in structured_traceback\n",
      "    chained_exceptions_tb_offset)\n",
      "  File \"/Users/kitt/miniconda3/envs/net/lib/python3.7/site-packages/IPython/core/ultratb.py\", line 1082, in format_exception_as_a_whole\n",
      "    last_unique, recursion_repeat = find_recursion(orig_etype, evalue, records)\n",
      "  File \"/Users/kitt/miniconda3/envs/net/lib/python3.7/site-packages/IPython/core/ultratb.py\", line 382, in find_recursion\n",
      "    return len(records), 0\n",
      "TypeError: object of type 'NoneType' has no len()\n",
      "\n",
      "During handling of the above exception, another exception occurred:\n",
      "\n",
      "Traceback (most recent call last):\n",
      "  File \"/Users/kitt/miniconda3/envs/net/lib/python3.7/site-packages/IPython/core/interactiveshell.py\", line 2061, in showtraceback\n",
      "    stb = value._render_traceback_()\n",
      "AttributeError: 'TypeError' object has no attribute '_render_traceback_'\n",
      "\n",
      "During handling of the above exception, another exception occurred:\n",
      "\n",
      "Traceback (most recent call last):\n",
      "  File \"/Users/kitt/miniconda3/envs/net/lib/python3.7/site-packages/IPython/core/ultratb.py\", line 1101, in get_records\n",
      "    return _fixed_getinnerframes(etb, number_of_lines_of_context, tb_offset)\n",
      "  File \"/Users/kitt/miniconda3/envs/net/lib/python3.7/site-packages/IPython/core/ultratb.py\", line 248, in wrapped\n",
      "    return f(*args, **kwargs)\n",
      "  File \"/Users/kitt/miniconda3/envs/net/lib/python3.7/site-packages/IPython/core/ultratb.py\", line 281, in _fixed_getinnerframes\n",
      "    records = fix_frame_records_filenames(inspect.getinnerframes(etb, context))\n",
      "  File \"/Users/kitt/miniconda3/envs/net/lib/python3.7/inspect.py\", line 1502, in getinnerframes\n",
      "    frameinfo = (tb.tb_frame,) + getframeinfo(tb, context)\n",
      "  File \"/Users/kitt/miniconda3/envs/net/lib/python3.7/inspect.py\", line 1460, in getframeinfo\n",
      "    filename = getsourcefile(frame) or getfile(frame)\n",
      "  File \"/Users/kitt/miniconda3/envs/net/lib/python3.7/inspect.py\", line 696, in getsourcefile\n",
      "    if getattr(getmodule(object, filename), '__loader__', None) is not None:\n",
      "  File \"/Users/kitt/miniconda3/envs/net/lib/python3.7/inspect.py\", line 733, in getmodule\n",
      "    if ismodule(module) and hasattr(module, '__file__'):\n",
      "  File \"/Users/kitt/miniconda3/envs/net/lib/python3.7/site-packages/tensorflow/__init__.py\", line 50, in __getattr__\n",
      "    module = self._load()\n",
      "  File \"/Users/kitt/miniconda3/envs/net/lib/python3.7/site-packages/tensorflow/__init__.py\", line 44, in _load\n",
      "    module = _importlib.import_module(self.__name__)\n",
      "  File \"/Users/kitt/miniconda3/envs/net/lib/python3.7/importlib/__init__.py\", line 127, in import_module\n",
      "    return _bootstrap._gcd_import(name[level:], package, level)\n",
      "  File \"<frozen importlib._bootstrap>\", line 1006, in _gcd_import\n",
      "  File \"<frozen importlib._bootstrap>\", line 983, in _find_and_load\n",
      "  File \"<frozen importlib._bootstrap>\", line 965, in _find_and_load_unlocked\n",
      "ModuleNotFoundError: No module named 'tensorflow_core.estimator'\n"
     ]
    }
   ],
   "source": [
    "DATA_FILE = '../data/heart.csv'  # source CSV file\n",
    "\n",
    "# Read and normalize data, sort features\n",
    "samples, targets, feats = read_data(data_file=DATA_FILE)\n",
    "\n",
    "# Split data (train, dev, test)\n",
    "split = split_data(targets, DATA_SPLIT_RATIO, seed=19)\n",
    "\n",
    "# Form data for Keras\n",
    "data = form_data(samples, targets, split, feats)\n",
    "\n",
    "best_model_path = '../models/best.h5'\n",
    "\n",
    "## -- NEURAL NETWORK EVALUATION\n",
    "\n",
    "# Load model for evaluation\n",
    "evaluated_model = best_model_path\n",
    "#evaluated_model = 'path_to_your_model_for_evaluation'\n",
    "\n",
    "model = load_model(evaluated_model)\n",
    "\n",
    "# Evaluate on test data\n",
    "y_pred = model.predict(data['x_test'])\n",
    "\n",
    "test_loss, test_acc = model.evaluate(data['x_test'], data['y_test'])\n",
    "\n",
    "# for yi, ui in zip(y_pred, data['y_test']):\n",
    "#     print(yi[0], ui[0])"
   ]
  },
  {
   "cell_type": "markdown",
   "metadata": {
    "pycharm": {
     "name": "#%% md\n"
    }
   },
   "source": [
    "### Graf 1: ROC + AUC value"
   ]
  },
  {
   "cell_type": "code",
   "execution_count": 101,
   "metadata": {
    "collapsed": false,
    "jupyter": {
     "outputs_hidden": false
    },
    "pycharm": {
     "name": "#%%\n"
    }
   },
   "outputs": [
    {
     "data": {
      "image/png": "[encoded data removed]",
      "text/plain": [
       "<Figure size 432x288 with 1 Axes>"
      ]
     },
     "metadata": {
      "needs_background": "light"
     },
     "output_type": "display_data"
    }
   ],
   "source": [
    "# knihovni metoda\n",
    "import numpy as np\n",
    "from sklearn import metrics\n",
    "import matplotlib.pyplot as plt\n",
    "\n",
    "fpr, tpr, thresholds = metrics.roc_curve(data['y_test'], y_pred, pos_label=1, drop_intermediate=False)\n",
    "auc = metrics.roc_auc_score(data['y_test'], y_pred)\n",
    "# metrics.auc(fpr, tpr)\n",
    "\n",
    "#create ROC curve\n",
    "plt.plot(fpr, tpr, label=\"AUC=\" + str(auc))\n",
    "plt.ylabel('True Positive Rate')\n",
    "plt.xlabel('False Positive Rate')\n",
    "plt.legend(loc=4)\n",
    "plt.show()"
   ]
  },
  {
   "cell_type": "code",
   "execution_count": null,
   "metadata": {},
   "outputs": [],
   "source": [
    "def eval(u, y, th):\n",
    "    tp, fp, tn, fn = 0, 0, 0, 0\n",
    "    for ui, yi in zip(u, y):\n",
    "        if ui >= th:\n",
    "            if yi >= th:\n",
    "                tp += 1\n",
    "            else:\n",
    "                fn += 1\n",
    "        else:\n",
    "            if yi >= th:\n",
    "                fp += 1\n",
    "            else:\n",
    "                tn += 1\n",
    "    \n",
    "    return tp, fp, tn, fn\n",
    "\n",
    "u = [ui[0] for ui in data['y_test']]\n",
    "y = [yi[0] for yi in y_pred]\n",
    "\n",
    "th_step = 0.01\n",
    "ths = np.arange(th_step, 1, th_step)\n",
    "fpr = []\n",
    "tpr = []\n",
    "for th in ths:\n",
    "    tp, fp, tn, fn = eval(u, y, th)\n",
    "    fpr.append(fp/(tn+fp))  # 1 - specificity\n",
    "    tpr.append(tp/(tp+fn))  # recall\n",
    "    #print(round(th, 4), 'acc:', round((tp+tn)/(tp+fp+tn+fn), 2), round(fpr[-1], 2), round(tpr[-1], 2))\n",
    "    \n",
    "#create ROC curve\n",
    "plt.plot(fpr, tpr)\n",
    "plt.ylabel('True Positive Rate')\n",
    "plt.xlabel('False Positive Rate')\n",
    "plt.show()"
   ]
  },
  {
   "cell_type": "code",
   "execution_count": 102,
   "metadata": {
    "collapsed": false,
    "jupyter": {
     "outputs_hidden": false
    },
    "pycharm": {
     "name": "#%%\n"
    }
   },
   "outputs": [
    {
     "data": {
      "image/png": "[encoded data removed]",
      "text/plain": [
       "<Figure size 432x288 with 1 Axes>"
      ]
     },
     "metadata": {
      "needs_background": "light"
     },
     "output_type": "display_data"
    }
   ],
   "source": [
    "# implementace bez knihovny\n",
    "y_true = np.array(data['y_test'].ravel())\n",
    "y_score = np.array(y_pred.ravel())\n",
    "\n",
    "# sort predicted scores in descending order\n",
    "desc_score_indices = np.argsort(y_score)[::-1]\n",
    "y_score = y_score[desc_score_indices]\n",
    "y_true = y_true[desc_score_indices]\n",
    "\n",
    "# y_score typically consists of tied values. Here we extract\n",
    "# the indices associated with the distinct values.\n",
    "distinct_indices = np.where(np.diff(y_score))[0]\n",
    "threshold_indices = np.append(distinct_indices, (y_true.size - 1))\n",
    "\n",
    "thresholds = y_score[threshold_indices]\n",
    "tps = np.cumsum(y_true)[threshold_indices]\n",
    "\n",
    "# (1 + threshold_indices) = the number of positives at each index, thus number of data points minus true\n",
    "# positives = false positives\n",
    "fps = (1 + threshold_indices) - tps\n",
    "tpr = tps / tps[-1]\n",
    "fpr = fps / fps[-1]\n",
    "\n",
    "# compute AUC using the trapezoidal rule;\n",
    "# appending an extra 0 is just to ensure the length matches\n",
    "\n",
    "tpr_diff = np.append(np.diff(tpr), 0)\n",
    "fpr_diff = np.append(np.diff(fpr), 0)\n",
    "auc = np.dot(tpr, fpr_diff) + np.dot(tpr_diff, fpr_diff) / 2\n",
    "\n",
    "#create ROC curve\n",
    "plt.plot(fpr, tpr, label=\"AUC=\" + str(auc))\n",
    "plt.ylabel('True Positive Rate')\n",
    "plt.xlabel('False Positive Rate')\n",
    "plt.legend(loc=4)\n",
    "plt.show()"
   ]
  },
  {
   "cell_type": "markdown",
   "metadata": {
    "pycharm": {
     "name": "#%% md\n"
    }
   },
   "source": [
    "### Graf 2: osa X: threshold, osa Y:\n",
    "- TP\n",
    "- FP\n",
    "- TN\n",
    "- FN"
   ]
  },
  {
   "cell_type": "code",
   "execution_count": 103,
   "metadata": {
    "collapsed": false,
    "jupyter": {
     "outputs_hidden": false
    },
    "pycharm": {
     "name": "#%%\n"
    }
   },
   "outputs": [
    {
     "data": {
      "image/png": "[encoded data removed]",
      "text/plain": [
       "<Figure size 432x288 with 1 Axes>"
      ]
     },
     "metadata": {
      "needs_background": "light"
     },
     "output_type": "display_data"
    }
   ],
   "source": [
    "# knihovni metoda\n",
    "from sklearn.metrics import confusion_matrix\n",
    "\n",
    "tp = []\n",
    "tn = []\n",
    "fp = []\n",
    "fn = []\n",
    "for threshold in thresholds:\n",
    "    y_round = []\n",
    "    for yi, ui in zip(y_pred, data['y_test']):\n",
    "        y_round.append(1 if (yi[0] > threshold) else 0)\n",
    "\n",
    "    TN, FP, FN, TP = confusion_matrix(data['y_test'], y_round).ravel()\n",
    "    tp.append(TP)\n",
    "    tn.append(TN)\n",
    "    fp.append(FP)\n",
    "    fn.append(FN)\n",
    "\n",
    "plt.plot(thresholds, tp, label='TP')\n",
    "plt.plot(thresholds, tn, label='TN')\n",
    "plt.plot(thresholds, fp, label='FP')\n",
    "plt.plot(thresholds, fn, label='FN')\n",
    "plt.xlabel('Threshold')\n",
    "plt.legend(loc=4)\n",
    "plt.grid()\n",
    "plt.show()"
   ]
  },
  {
   "cell_type": "code",
   "execution_count": 104,
   "metadata": {
    "collapsed": false,
    "jupyter": {
     "outputs_hidden": false
    },
    "pycharm": {
     "name": "#%%\n"
    }
   },
   "outputs": [
    {
     "data": {
      "image/png": "[encoded data removed]",
      "text/plain": [
       "<Figure size 432x288 with 1 Axes>"
      ]
     },
     "metadata": {
      "needs_background": "light"
     },
     "output_type": "display_data"
    }
   ],
   "source": [
    "# implemenatace bez knihovny\n",
    "def TP_TN_FP_FN(y_actual, y_pred, threshold):\n",
    "    TP = 0\n",
    "    TN = 0\n",
    "    FP = 0\n",
    "    FN = 0\n",
    "\n",
    "    for yi, ui in zip(y_pred, y_actual):\n",
    "        y_round = 1 if (yi[0] > threshold) else 0\n",
    "        if ui == y_round == 1:\n",
    "            TP += 1\n",
    "        if ui == y_round == 0:\n",
    "            TN += 1\n",
    "        if y_round == 1 and ui == 0:\n",
    "            FP += 1\n",
    "        if y_round == 0 and ui == 1:\n",
    "            FN += 1\n",
    "\n",
    "    return (TP, TN, FP, FN)\n",
    "\n",
    "\n",
    "tp = []\n",
    "tn = []\n",
    "fp = []\n",
    "fn = []\n",
    "for threshold in thresholds:\n",
    "    TP, TN, FP, FN = TP_TN_FP_FN(data['y_test'], y_pred, threshold)\n",
    "    tp.append(TP)\n",
    "    tn.append(TN)\n",
    "    fp.append(FP)\n",
    "    fn.append(FN)\n",
    "\n",
    "plt.plot(thresholds, tp, label='TP')\n",
    "plt.plot(thresholds, tn, label='TN')\n",
    "plt.plot(thresholds, fp, label='FP')\n",
    "plt.plot(thresholds, fn, label='FN')\n",
    "plt.xlabel('Threshold')\n",
    "plt.legend(loc=4)\n",
    "plt.grid()\n",
    "plt.show()"
   ]
  },
  {
   "cell_type": "markdown",
   "metadata": {
    "pycharm": {
     "name": "#%% md\n"
    }
   },
   "source": [
    "### Confusion matrix pro threshold 0.5"
   ]
  },
  {
   "cell_type": "code",
   "execution_count": 105,
   "metadata": {
    "collapsed": false,
    "jupyter": {
     "outputs_hidden": false
    },
    "pycharm": {
     "name": "#%%\n"
    }
   },
   "outputs": [],
   "source": [
    "threshold = 0.5"
   ]
  },
  {
   "cell_type": "code",
   "execution_count": 106,
   "metadata": {
    "collapsed": false,
    "jupyter": {
     "outputs_hidden": false
    },
    "pycharm": {
     "name": "#%%\n"
    }
   },
   "outputs": [
    {
     "data": {
      "image/png": "[encoded data removed]",
      "text/plain": [
       "<Figure size 432x288 with 2 Axes>"
      ]
     },
     "metadata": {
      "needs_background": "light"
     },
     "output_type": "display_data"
    }
   ],
   "source": [
    "import seaborn as sns\n",
    "import matplotlib.pyplot as plt\n",
    "\n",
    "y_round = []\n",
    "for yi, ui in zip(y_pred, data['y_test']):\n",
    "    y_round.append(1 if (yi[0] > threshold) else 0)\n",
    "TN, FP, FN, TP = confusion_matrix(data['y_test'], y_round).ravel()\n",
    "labels = ['True Neg\\n{}'.format(TN), 'False Pos\\n{}'.format(FP), 'False Neg\\n{}'.format(FN), 'True Pos\\n{}'.format(TP)]\n",
    "\n",
    "labels = np.asarray(labels).reshape(2, 2)\n",
    "cf_matrix = confusion_matrix(data['y_test'], y_round)\n",
    "ax = sns.heatmap(cf_matrix, annot=labels, fmt='', cmap='Blues')\n",
    "\n",
    "ax.set_xlabel('Predicted Values')\n",
    "ax.set_ylabel('Actual Values')\n",
    "\n",
    "plt.show()"
   ]
  },
  {
   "cell_type": "code",
   "execution_count": 107,
   "metadata": {
    "collapsed": false,
    "jupyter": {
     "outputs_hidden": false
    },
    "pycharm": {
     "name": "#%%\n"
    }
   },
   "outputs": [
    {
     "name": "stdout",
     "output_type": "stream",
     "text": [
      "TN: 12\n",
      "FP: 1\n",
      "FN: 0\n",
      "TP: 17\n"
     ]
    }
   ],
   "source": [
    "# hodnoty ziskane neknihovni metodou\n",
    "TP, TN, FP, FN = TP_TN_FP_FN(data['y_test'], y_pred, threshold)\n",
    "print('TN: {}'.format(TN))\n",
    "print('FP: {}'.format(FP))\n",
    "print('FN: {}'.format(FN))\n",
    "print('TP: {}'.format(TP))"
   ]
  },
  {
   "cell_type": "markdown",
   "metadata": {
    "pycharm": {
     "name": "#%% md\n"
    }
   },
   "source": [
    "### Graf 3: osa X: treshold, osa Y:\n",
    "- Accuracy\n",
    "- Precision\n",
    "- Recall"
   ]
  },
  {
   "cell_type": "code",
   "execution_count": 108,
   "metadata": {
    "collapsed": false,
    "jupyter": {
     "outputs_hidden": false
    },
    "pycharm": {
     "name": "#%%\n"
    }
   },
   "outputs": [
    {
     "data": {
      "image/png": "[encoded data removed]",
      "text/plain": [
       "<Figure size 432x288 with 1 Axes>"
      ]
     },
     "metadata": {
      "needs_background": "light"
     },
     "output_type": "display_data"
    }
   ],
   "source": [
    "# knihovni metoda\n",
    "from sklearn.metrics import accuracy_score\n",
    "from sklearn.metrics import precision_score\n",
    "from sklearn.metrics import recall_score\n",
    "\n",
    "accuracies = []\n",
    "precisions = []\n",
    "recalls = []\n",
    "\n",
    "for threshold in thresholds:\n",
    "    y_round = []\n",
    "    for yi, ui in zip(y_pred, data['y_test']):\n",
    "        y_round.append(1 if (yi[0] > threshold) else 0)\n",
    "    accuracies.append(accuracy_score(data['y_test'], y_round))\n",
    "    precisions.append(precision_score(data['y_test'], y_round))\n",
    "    recalls.append(recall_score(data['y_test'], y_round))\n",
    "\n",
    "plt.plot(thresholds, accuracies, label='Accuracy')\n",
    "plt.plot(thresholds, precisions, label='Precision')\n",
    "plt.plot(thresholds, recalls, label='Recall')\n",
    "plt.xlabel('Threshold')\n",
    "plt.legend(loc=4)\n",
    "plt.grid()\n",
    "plt.show()"
   ]
  },
  {
   "cell_type": "code",
   "execution_count": 109,
   "metadata": {
    "collapsed": false,
    "jupyter": {
     "outputs_hidden": false
    },
    "pycharm": {
     "name": "#%%\n"
    }
   },
   "outputs": [
    {
     "data": {
      "image/png": "[encoded data removed]",
      "text/plain": [
       "<Figure size 432x288 with 1 Axes>"
      ]
     },
     "metadata": {
      "needs_background": "light"
     },
     "output_type": "display_data"
    }
   ],
   "source": [
    "# implemenatace bez knihovny\n",
    "\n",
    "accuracies = []\n",
    "precisions = []\n",
    "recalls = []\n",
    "\n",
    "for threshold in thresholds:\n",
    "    TP, TN, FP, FN = TP_TN_FP_FN(data['y_test'], y_pred, threshold)\n",
    "    accuracies.append((TP + TN) / (TP + TN + FP + FN))\n",
    "    precisions.append(TP / (TP + FP) if (TP + FP) != 0 else 0)\n",
    "    recalls.append(TP / (TP + FN))\n",
    "\n",
    "plt.plot(thresholds, accuracies, label='Accuracy')\n",
    "plt.plot(thresholds, precisions, label='Precision')\n",
    "plt.plot(thresholds, recalls, label='Recall')\n",
    "plt.xlabel('Threshold')\n",
    "plt.legend(loc=4)\n",
    "plt.grid()\n",
    "plt.show()"
   ]
  },
  {
   "cell_type": "markdown",
   "metadata": {
    "pycharm": {
     "name": "#%% md\n"
    }
   },
   "source": [
    "### Graf 4: osa X: treshold, osa Y:\n",
    "- F1 score\n",
    "- Specificity\n",
    "- Negative Predictive Value"
   ]
  },
  {
   "cell_type": "code",
   "execution_count": 110,
   "metadata": {
    "collapsed": false,
    "jupyter": {
     "outputs_hidden": false
    },
    "pycharm": {
     "name": "#%%\n"
    }
   },
   "outputs": [
    {
     "data": {
      "image/png": "[encoded data removed]",
      "text/plain": [
       "<Figure size 432x288 with 1 Axes>"
      ]
     },
     "metadata": {
      "needs_background": "light"
     },
     "output_type": "display_data"
    }
   ],
   "source": [
    "# knihovni metoda\n",
    "from sklearn.metrics import f1_score\n",
    "from sklearn.metrics import confusion_matrix\n",
    "\n",
    "f1_scores = []\n",
    "specificities = []\n",
    "negative_predictive_values = []\n",
    "\n",
    "for threshold in thresholds:\n",
    "    y_round = []\n",
    "    for yi, ui in zip(y_pred, data['y_test']):\n",
    "        y_round.append(1 if (yi[0] > threshold) else 0)\n",
    "    f1_scores.append(f1_score(data['y_test'], y_round))\n",
    "    TN, FP, FN, TP = confusion_matrix(data['y_test'], y_round).ravel()\n",
    "    specificities.append(TN / (TN + FP))\n",
    "    negative_predictive_values.append(TN / (TN + FN))\n",
    "\n",
    "plt.plot(thresholds, f1_scores, label='F1 score')\n",
    "plt.plot(thresholds, specificities, label='Specificity')\n",
    "plt.plot(thresholds, negative_predictive_values, label='Negative Predictive Value')\n",
    "plt.xlabel('Threshold')\n",
    "plt.legend(loc=4)\n",
    "plt.grid()\n",
    "plt.show()"
   ]
  },
  {
   "cell_type": "code",
   "execution_count": 111,
   "metadata": {
    "collapsed": false,
    "jupyter": {
     "outputs_hidden": false
    },
    "pycharm": {
     "name": "#%%\n"
    }
   },
   "outputs": [
    {
     "data": {
      "image/png": "[encoded data removed]",
      "text/plain": [
       "<Figure size 432x288 with 1 Axes>"
      ]
     },
     "metadata": {
      "needs_background": "light"
     },
     "output_type": "display_data"
    }
   ],
   "source": [
    "# implemenatace bez knihovny\n",
    "\n",
    "f1_scores = []\n",
    "specificities = []\n",
    "negative_predictive_values = []\n",
    "\n",
    "for threshold in thresholds:\n",
    "    TP, TN, FP, FN = TP_TN_FP_FN(data['y_test'], y_pred, threshold)\n",
    "    f1_scores.append(2 * TP / ((2 * TP) + FP + FN))\n",
    "    specificities.append(TN / (TN + FP))\n",
    "    negative_predictive_values.append(TN / (TN + FN))\n",
    "\n",
    "plt.plot(thresholds, f1_scores, label='F1 score')\n",
    "plt.plot(thresholds, specificities, label='Specificity')\n",
    "plt.plot(thresholds, negative_predictive_values, label='Negative Predictive Value')\n",
    "plt.xlabel('Threshold')\n",
    "plt.legend(loc=4)\n",
    "plt.grid()\n",
    "plt.show()"
   ]
  }
 ],
 "metadata": {
  "kernelspec": {
   "display_name": "net",
   "language": "python",
   "name": "net"
  },
  "language_info": {
   "codemirror_mode": {
    "name": "ipython",
    "version": 3
   },
   "file_extension": ".py",
   "mimetype": "text/x-python",
   "name": "python",
   "nbconvert_exporter": "python",
   "pygments_lexer": "ipython3",
   "version": "3.7.11"
  }
 },
 "nbformat": 4,
 "nbformat_minor": 4
}
