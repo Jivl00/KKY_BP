{
 "cells": [
  {
   "cell_type": "code",
   "execution_count": 1,
   "outputs": [
    {
     "name": "stdout",
     "output_type": "stream",
     "text": [
      "ERROR! Session/line number was not unique in database. History logging moved to new session 1006\n",
      "Data:\n",
      "Number of samples: 60\n",
      "Number of unique intents: 6\n",
      "Number of unique words: 114\n",
      "Number of samples per intent:\n",
      "POZDRAV : 10\n",
      "KALENDÁŘ : 10\n",
      "VYGOOGLI : 10\n",
      "STOP : 10\n",
      "POZNEJ : 10\n",
      "POKYN : 10\n",
      "Average number of words per sample:\n",
      "2.783333333333333\n"
     ]
    }
   ],
   "source": [
    "import numpy as np\n",
    "\n",
    "with open('data.txt', 'r', encoding='utf-8-sig') as f:\n",
    "    data = [line for line in f]\n",
    "\n",
    "print('Data:')\n",
    "print(\"Number of samples:\", len(data))\n",
    "print(\"Number of unique intents:\", len(set([line.split('\\t')[0] for line in data])))\n",
    "print(\"Number of unique words:\", len(set([word for line in data for word in line.split('\\t')[1].split(' ')])))\n",
    "\n",
    "print(\"Number of samples per intent:\")\n",
    "for intent in set([line.split('\\t')[0] for line in data]):\n",
    "    print(intent, ':', len([line for line in data if line.split('\\t')[0] == intent]))\n",
    "\n",
    "print(\"Average number of words per sample:\")\n",
    "print(np.mean([len(line.split('\\t')[1].split(' ')) for line in data]))"
   ],
   "metadata": {
    "collapsed": false
   }
  },
  {
   "cell_type": "code",
   "execution_count": 2,
   "outputs": [
    {
     "name": "stdout",
     "output_type": "stream",
     "text": [
      "Train data:\n",
      "Number of samples: 15000\n",
      "Number of unique intents: 150\n",
      "Number of unique words: 10633\n",
      "Number of samples per intent: 100\n",
      "Average number of words per sample: 6.778333333333333\n",
      "Test data:\n",
      "Number of samples: 4500\n",
      "Number of unique intents: 150\n",
      "Number of unique words: 5114\n",
      "Number of samples per intent: 30\n",
      "Average number of words per sample: 6.7042222222222225\n",
      "Valid data:\n",
      "Number of samples: 3000\n",
      "Number of unique intents: 150\n",
      "Number of unique words: 4100\n",
      "Number of samples per intent: 20\n",
      "Average number of words per sample: 6.777333333333333\n"
     ]
    }
   ],
   "source": [
    "import numpy as np\n",
    "\n",
    "\n",
    "def data_stats(data):\n",
    "    \"\"\" Print data statistics\n",
    "    \"\"\"\n",
    "    print('Number of samples:', len(data))\n",
    "    print('Number of unique intents:', len(set([line.split('\\t')[1] for line in data])))\n",
    "    print('Number of unique words:', len(set([word for line in data for word in line.split('\\t')[0].split(' ')])))\n",
    "\n",
    "    print('Number of samples per intent:', end=' ')\n",
    "    for intent in set([line.split('\\t')[1] for line in data]):\n",
    "        continue\n",
    "    print('{}'.format(len([line for line in data if line.split('\\t')[1] == intent])))\n",
    "\n",
    "    print('Average number of words per sample:', end=' ')\n",
    "    print(np.mean([len(line.split('\\t')[0].split(' ')) for line in data]))\n",
    "\n",
    "\n",
    "path = 'dataset-2'\n",
    "with open(path + '/train-cs.tsv', 'r', encoding='utf-8-sig') as f:\n",
    "    train = [line for line in f if line != '\\n']\n",
    "\n",
    "with open(path + '/test-cs.tsv', 'r', encoding='utf-8-sig') as f:\n",
    "    test = [line for line in f if line != '\\n']\n",
    "\n",
    "with open(path + '/dev-cs.tsv', 'r', encoding='utf-8-sig') as f:\n",
    "    valid = [line for line in f if line != '\\n']\n",
    "\n",
    "\n",
    "print('Train data:')\n",
    "data_stats(train)\n",
    "print('Test data:')\n",
    "data_stats(test)\n",
    "print('Valid data:')\n",
    "data_stats(valid)\n"
   ],
   "metadata": {
    "collapsed": false
   }
  },
  {
   "cell_type": "code",
   "execution_count": 4,
   "outputs": [
    {
     "name": "stdout",
     "output_type": "stream",
     "text": [
      "Results:\n",
      "Number of samples: 15\n",
      "Average accuracy: 0.8544888888888889 +/- 0.002137957950365454\n",
      "Average loss: 0.5887100789282056 +/- 0.015295931038450878\n"
     ]
    }
   ],
   "source": [
    "with open('results.txt', 'r', encoding='utf-8-sig') as f:\n",
    "    results = [line for line in f]\n",
    "print('Results:')\n",
    "print(\"Number of samples:\", len(results))\n",
    "accs = [float(line.split(' ')[5]) for line in results]\n",
    "losses = [float(line.split(' ')[2]) for line in results]\n",
    "\n",
    "print(\"Average accuracy:\", np.mean(accs), \"+/-\", np.std(accs))\n",
    "print(\"Average loss:\", np.mean(losses), \"+/-\", np.std(losses))"
   ],
   "metadata": {
    "collapsed": false
   }
  }
 ],
 "metadata": {
  "kernelspec": {
   "display_name": "Python 3",
   "language": "python",
   "name": "python3"
  },
  "language_info": {
   "codemirror_mode": {
    "name": "ipython",
    "version": 2
   },
   "file_extension": ".py",
   "mimetype": "text/x-python",
   "name": "python",
   "nbconvert_exporter": "python",
   "pygments_lexer": "ipython2",
   "version": "2.7.6"
  }
 },
 "nbformat": 4,
 "nbformat_minor": 0
}
