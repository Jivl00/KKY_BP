{
 "cells": [
  {
   "cell_type": "markdown",
   "source": [
    "Analysis of the selection of the optimal network on my own data (architecture, time, acc)"
   ],
   "metadata": {
    "collapsed": false
   }
  },
  {
   "cell_type": "code",
   "execution_count": 39,
   "outputs": [
    {
     "name": "stdout",
     "output_type": "stream",
     "text": [
      "24000\n"
     ]
    },
    {
     "data": {
      "text/plain": "<Figure size 720x360 with 1 Axes>",
      "image/png": "[encoded data removed]"
     },
     "metadata": {
      "needs_background": "light"
     },
     "output_type": "display_data"
    }
   ],
   "source": [
    "# Initial 24 000 models - details viz exp.py\n",
    "\n",
    "import json\n",
    "import matplotlib.pyplot as plt\n",
    "\n",
    "# plot histogram of accuracy\n",
    "with open('temp/experiments.json', 'r', encoding='utf-8') as f:\n",
    "    data = json.load(f)\n",
    "    print(len(data))\n",
    "    acc = [data[key]['accuracy']*100 for key in data]\n",
    "    plt.figure(figsize=(10, 5))\n",
    "    plt.hist(acc, bins=20, color='gray')\n",
    "    plt.xticks(range(0, 101, 10))\n",
    "    plt.title('Number of models with accuracy')\n",
    "    plt.xlabel('Accuracy (%)')\n",
    "    plt.ylabel('Number of models - bins=20')\n",
    "    plt.grid()\n",
    "    plt.show()"
   ],
   "metadata": {
    "collapsed": false
   }
  },
  {
   "cell_type": "code",
   "execution_count": 40,
   "outputs": [
    {
     "name": "stdout",
     "output_type": "stream",
     "text": [
      "24000\n",
      "3915\n"
     ]
    }
   ],
   "source": [
    "# Selection of the best models\n",
    "\n",
    "import json\n",
    "with open('temp/experiments.json', 'r', encoding='utf-8') as f:\n",
    "    data = json.load(f)\n",
    "    print(len(data))\n",
    "    best_models = []\n",
    "    best_acc = max([data[key]['accuracy'] for key in data])\n",
    "    for key in data:\n",
    "        if data[key]['accuracy'] == best_acc:\n",
    "            best_models.append(key)\n",
    "    print(len(best_models))\n"
   ],
   "metadata": {
    "collapsed": false
   }
  },
  {
   "cell_type": "code",
   "execution_count": 1,
   "outputs": [
    {
     "name": "stdout",
     "output_type": "stream",
     "text": [
      "2541\n",
      "514\n",
      "Best time:  0.26229429244995117\n",
      "model_2023-03-02T18-48-33\n",
      "\tAccuracy:  [1.0, 1.0, 1.0, 1.0, 1.0, 1.0, 1.0, 1.0, 1.0, 1.0]\n",
      "\tTimes:  [0.027925491333007812, 0.025929927825927734, 0.024933338165283203, 0.025928497314453125, 0.026929140090942383, 0.025928497314453125, 0.026927947998046875, 0.0249330997467041, 0.024932861328125, 0.027925491333007812]\n",
      "\tParams:  {'hidden_layers': 45, 'learning_rate': 0.01, 'epochs': 10, 'batch_size': 40, 'seed': 2, 'optimizer': 'Adam', 'accuracy': 1.0}\n",
      "model_2023-03-02T17-53-48\n",
      "\tAccuracy:  [1.0, 1.0, 1.0, 1.0, 1.0, 1.0, 1.0, 1.0, 1.0, 1.0]\n",
      "\tTimes:  [0.03191494941711426, 0.03191518783569336, 0.033908843994140625, 0.031914472579956055, 0.03291177749633789, 0.03291153907775879, 0.033908843994140625, 0.03191494941711426, 0.03390955924987793, 0.03390908241271973]\n",
      "\tParams:  {'hidden_layers': 20, 'learning_rate': 0.01, 'epochs': 15, 'batch_size': 40, 'seed': 0, 'optimizer': 'Adam', 'accuracy': 1.0}\n",
      "model_2023-03-02T18-48-51\n",
      "\tAccuracy:  [1.0, 1.0, 1.0, 1.0, 1.0, 1.0, 1.0, 1.0, 1.0, 1.0]\n",
      "\tTimes:  [0.034906625747680664, 0.034906864166259766, 0.034906625747680664, 0.03390932083129883, 0.03291177749633789, 0.03889608383178711, 0.03690600395202637, 0.03490614891052246, 0.03789877891540527, 0.03490710258483887]\n",
      "\tParams:  {'hidden_layers': 45, 'learning_rate': 0.01, 'epochs': 15, 'batch_size': 40, 'seed': 0, 'optimizer': 'Adam', 'accuracy': 1.0}\n",
      "model_2023-03-02T19-03-36\n",
      "\tAccuracy:  [1.0, 1.0, 1.0, 1.0, 1.0, 1.0, 1.0, 1.0, 1.0, 1.0]\n",
      "\tTimes:  [0.03490567207336426, 0.0359039306640625, 0.03490805625915527, 0.04088997840881348, 0.0359039306640625, 0.03490757942199707, 0.034906864166259766, 0.03490424156188965, 0.0359034538269043, 0.034906625747680664]\n",
      "\tParams:  {'hidden_layers': 50, 'learning_rate': 0.01, 'epochs': 15, 'batch_size': 50, 'seed': 0, 'optimizer': 'Adam', 'accuracy': 1.0}\n",
      "model_2023-03-02T18-23-01\n",
      "\tAccuracy:  [1.0, 1.0, 1.0, 1.0, 1.0, 1.0, 1.0, 1.0, 1.0, 1.0]\n",
      "\tTimes:  [0.03889727592468262, 0.036900997161865234, 0.0359039306640625, 0.03390955924987793, 0.03390932083129883, 0.036911725997924805, 0.034906625747680664, 0.0388941764831543, 0.0359039306640625, 0.03490757942199707]\n",
      "\tParams:  {'hidden_layers': 35, 'learning_rate': 0.01, 'epochs': 15, 'batch_size': 40, 'seed': 0, 'optimizer': 'Adam', 'accuracy': 1.0}\n",
      "model_2023-03-02T18-23-04\n",
      "\tAccuracy:  [1.0, 1.0, 1.0, 1.0, 1.0, 1.0, 1.0, 1.0, 1.0, 1.0]\n",
      "\tTimes:  [0.03390979766845703, 0.03989291191101074, 0.034906625747680664, 0.03390955924987793, 0.0359044075012207, 0.036902427673339844, 0.0388946533203125, 0.034906625747680664, 0.03690075874328613, 0.03690147399902344]\n",
      "\tParams:  {'hidden_layers': 35, 'learning_rate': 0.01, 'epochs': 15, 'batch_size': 50, 'seed': 0, 'optimizer': 'Adam', 'accuracy': 1.0}\n",
      "model_2023-03-02T19-03-33\n",
      "\tAccuracy:  [1.0, 1.0, 1.0, 1.0, 1.0, 1.0, 1.0, 1.0, 1.0, 1.0]\n",
      "\tTimes:  [0.03490781784057617, 0.035903215408325195, 0.03789925575256348, 0.035904884338378906, 0.038895606994628906, 0.04089021682739258, 0.03490781784057617, 0.034906864166259766, 0.03490710258483887, 0.03690218925476074]\n",
      "\tParams:  {'hidden_layers': 50, 'learning_rate': 0.01, 'epochs': 15, 'batch_size': 40, 'seed': 0, 'optimizer': 'Adam', 'accuracy': 1.0}\n",
      "model_2023-03-02T18-11-56\n",
      "\tAccuracy:  [1.0, 1.0, 1.0, 1.0, 1.0, 1.0, 1.0, 1.0, 1.0, 1.0]\n",
      "\tTimes:  [0.034906864166259766, 0.05585885047912598, 0.03291201591491699, 0.034905195236206055, 0.038895606994628906, 0.032912254333496094, 0.0359039306640625, 0.03490591049194336, 0.03790020942687988, 0.03390979766845703]\n",
      "\tParams:  {'hidden_layers': 30, 'learning_rate': 0.01, 'epochs': 15, 'batch_size': 40, 'seed': 0, 'optimizer': 'Adam', 'accuracy': 1.0}\n",
      "model_2023-03-02T18-48-54\n",
      "\tAccuracy:  [1.0, 1.0, 1.0, 1.0, 1.0, 1.0, 1.0, 1.0, 1.0, 1.0]\n",
      "\tTimes:  [0.03787350654602051, 0.03789830207824707, 0.0359041690826416, 0.07085156440734863, 0.03390932083129883, 0.033907413482666016, 0.03789877891540527, 0.034906625747680664, 0.0359034538269043, 0.03689980506896973]\n",
      "\tParams:  {'hidden_layers': 45, 'learning_rate': 0.01, 'epochs': 15, 'batch_size': 50, 'seed': 0, 'optimizer': 'Adam', 'accuracy': 1.0}\n",
      "model_2023-03-02T18-35-20\n",
      "\tAccuracy:  [1.0, 1.0, 1.0, 1.0, 1.0, 1.0, 1.0, 1.0, 1.0, 1.0]\n",
      "\tTimes:  [0.049866676330566406, 0.04587602615356445, 0.041889190673828125, 0.036900997161865234, 0.04488062858581543, 0.03989267349243164, 0.03811788558959961, 0.041889190673828125, 0.042883872985839844, 0.04188799858093262]\n",
      "\tParams:  {'hidden_layers': 40, 'learning_rate': 0.01, 'epochs': 15, 'batch_size': 40, 'seed': 0, 'optimizer': 'Adam', 'accuracy': 1.0}\n"
     ]
    }
   ],
   "source": [
    "# Selection of the best models from the best models selected above - they were trained with different seeds - details viz find_best.py\n",
    "\n",
    "import json\n",
    "\n",
    "\n",
    "with open('temp/experiments.json', 'r', encoding='utf-8') as f:\n",
    "    data = json.load(f)\n",
    "best_of = {}\n",
    "with open('temp/bests.json', 'r', encoding='utf-8') as f:\n",
    "    file = json.load(f)\n",
    "    for mod in file:\n",
    "        score = sum(file[mod]['accuracy'])\n",
    "        if score == 10.0:\n",
    "            best_of[mod] = file[mod]\n",
    "print(len(best_of))\n",
    "\n",
    "# some models have same architecture, but different seed -> remove them\n",
    "to_del = []\n",
    "visited = []\n",
    "for mod in list(best_of.keys()):\n",
    "    for mod2 in list(best_of.keys()):\n",
    "        if mod != mod2 and \\\n",
    "                mod.split('\\t')[1] == mod2.split('\\t')[1] and \\\n",
    "                mod.split('\\t')[2] == mod2.split('\\t')[2] and \\\n",
    "                mod.split('\\t')[3] == mod2.split('\\t')[3] and \\\n",
    "                mod.split('\\t')[4] == mod2.split('\\t')[4] and \\\n",
    "                mod.split('\\t')[6] == mod2.split('\\t')[6] and \\\n",
    "                visited.count(mod2) == 0:\n",
    "            visited.append(mod2)\n",
    "            to_del.append(mod2)\n",
    "    visited.append(mod)\n",
    "\n",
    "for mod in to_del:\n",
    "    if mod in best_of:\n",
    "        best_of.pop(mod)\n",
    "\n",
    "print(len(best_of))\n",
    "\n",
    "# find 10 best models with minimum time\n",
    "best_of_best = {k: v for k, v in sorted(best_of.items(), key=lambda item: sum(item[1]['times']))}\n",
    "\n",
    "best_of_best = dict(list(best_of_best.items())[:10])\n",
    "print('Best time: ', sum(best_of_best[list(best_of_best.keys())[0]]['times']))\n",
    "for best_model in best_of_best:\n",
    "    print(best_model.split('\\t')[0].replace('models/', ''))\n",
    "    print('\\tAccuracy: ', best_of_best[best_model]['accuracy'])\n",
    "    print('\\tTimes: ', best_of_best[best_model]['times'])\n",
    "    print('\\tParams: ', data[best_model])"
   ],
   "metadata": {
    "collapsed": false
   }
  },
  {
   "cell_type": "code",
   "execution_count": 42,
   "outputs": [
    {
     "name": "stdout",
     "output_type": "stream",
     "text": [
      "ERROR! Session/line number was not unique in database. History logging moved to new session 976\n"
     ]
    },
    {
     "data": {
      "text/plain": "<Figure size 720x360 with 1 Axes>",
      "image/png": "[encoded data removed]"
     },
     "metadata": {
      "needs_background": "light"
     },
     "output_type": "display_data"
    },
    {
     "name": "stdout",
     "output_type": "stream",
     "text": [
      "     Hidden layers  Learning rate  Epochs  Batch size Optimizer  \\\n",
      "1.              45           0.01      10          40      Adam   \n",
      "2.              20           0.01      15          40      Adam   \n",
      "3.              45           0.01      15          40      Adam   \n",
      "4.              50           0.01      15          50      Adam   \n",
      "5.              35           0.01      15          40      Adam   \n",
      "6.              35           0.01      15          50      Adam   \n",
      "7.              50           0.01      15          40      Adam   \n",
      "8.              30           0.01      15          40      Adam   \n",
      "9.              45           0.01      15          50      Adam   \n",
      "10.             40           0.01      15          40      Adam   \n",
      "\n",
      "     Average time [s]  Average accuracy  \n",
      "1.              0.026               1.0  \n",
      "2.              0.033               1.0  \n",
      "3.              0.036               1.0  \n",
      "4.              0.036               1.0  \n",
      "5.              0.036               1.0  \n",
      "6.              0.036               1.0  \n",
      "7.              0.037               1.0  \n",
      "8.              0.037               1.0  \n",
      "9.              0.040               1.0  \n",
      "10.             0.042               1.0  \n"
     ]
    },
    {
     "data": {
      "text/plain": "<Figure size 720x360 with 1 Axes>",
      "image/png": "[encoded data removed]"
     },
     "metadata": {
      "needs_background": "light"
     },
     "output_type": "display_data"
    }
   ],
   "source": [
    "# boxplot of times for the 10 best models\n",
    "\n",
    "import matplotlib.pyplot as plt\n",
    "import numpy as np\n",
    "times = []\n",
    "for best_model in best_of_best:\n",
    "    times.append(best_of_best[best_model]['times'])\n",
    "plt.figure(figsize=(10, 5))\n",
    "plt.boxplot(times, labels=['1', '2', '3', '4', '5', '6', '7', '8', '9', '10'])\n",
    "plt.title('Boxplot of times for best models')\n",
    "plt.xlabel('Model')\n",
    "plt.ylabel('Time (s)')\n",
    "plt.grid()\n",
    "plt.show()\n",
    "\n",
    "\n",
    "# create table model parameters\n",
    "import pandas as pd\n",
    "\n",
    "table = pd.DataFrame()\n",
    "for best_model in best_of_best:\n",
    "    table = pd.concat([table, pd.DataFrame([[data[best_model]['hidden_layers'], data[best_model]['learning_rate'],data[best_model]['epochs'],data[best_model]['batch_size'],data[best_model]['optimizer'],round(np.mean(best_of_best[best_model]['times']),3),np.mean(best_of_best[best_model]['accuracy'])]])])\n",
    "table.index = ['1.', '2.', '3.', '4.', '5.', '6.', '7.', '8.', '9.', '10.']\n",
    "table.columns = ['Hidden layers', 'Learning rate', 'Epochs', 'Batch size', 'Optimizer', 'Average time [s]', 'Average accuracy']\n",
    "print(table)\n",
    "# save table as image\n",
    "plt.figure(figsize=(10, 5))\n",
    "plt.axis('off')\n",
    "plt.table(cellText=table.values, colLabels=table.columns, loc='center')\n",
    "# plt.savefig('temp/table.png', bbox_inches='tight', pad_inches=0.1)\n",
    "plt.show()"
   ],
   "metadata": {
    "collapsed": false
   }
  },
  {
   "cell_type": "code",
   "execution_count": 35,
   "outputs": [
    {
     "name": "stdout",
     "output_type": "stream",
     "text": [
      "models/model_2023-03-02T18-48-33\t45\t0.01\t10\t40\t2\tAdam\n",
      "[1.0, 1.0, 1.0, 1.0, 1.0, 1.0, 1.0, 1.0, 1.0, 1.0]\n",
      "[0.027925491333007812, 0.025929927825927734, 0.024933338165283203, 0.025928497314453125, 0.026929140090942383, 0.025928497314453125, 0.026927947998046875, 0.0249330997467041, 0.024932861328125, 0.027925491333007812]\n",
      "{'hidden_layers': 45, 'learning_rate': 0.01, 'epochs': 10, 'batch_size': 40, 'seed': 2, 'optimizer': 'Adam', 'accuracy': 1.0}\n"
     ]
    },
    {
     "data": {
      "text/plain": "<Figure size 720x360 with 1 Axes>",
      "image/png": "[encoded data removed]"
     },
     "metadata": {
      "needs_background": "light"
     },
     "output_type": "display_data"
    }
   ],
   "source": [
    "# print info about the best model\n",
    "\n",
    "best_model = list(best_of_best.keys())[0]\n",
    "print(best_model)\n",
    "print(best_of_best[best_model]['accuracy'])\n",
    "print(best_of_best[best_model]['times'])\n",
    "print(data[best_model])\n",
    "\n",
    "\n",
    "plt.figure(figsize=(10, 5))\n",
    "plt.boxplot([best_of_best[best_model]['times']])\n",
    "plt.title('Boxplot of times for best models')\n",
    "plt.xlabel('Model')\n",
    "plt.ylabel('Time (s)')\n",
    "plt.grid()\n",
    "plt.show()\n"
   ],
   "metadata": {
    "collapsed": false
   }
  }
 ],
 "metadata": {
  "kernelspec": {
   "name": "python3",
   "language": "python",
   "display_name": "Python 3 (ipykernel)"
  },
  "language_info": {
   "codemirror_mode": {
    "name": "ipython",
    "version": 2
   },
   "file_extension": ".py",
   "mimetype": "text/x-python",
   "name": "python",
   "nbconvert_exporter": "python",
   "pygments_lexer": "ipython2",
   "version": "2.7.6"
  }
 },
 "nbformat": 4,
 "nbformat_minor": 0
}
