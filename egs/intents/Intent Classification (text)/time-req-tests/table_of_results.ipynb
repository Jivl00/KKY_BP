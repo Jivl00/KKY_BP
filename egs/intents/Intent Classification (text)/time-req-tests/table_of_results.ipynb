{
 "cells": [
  {
   "cell_type": "code",
   "execution_count": 1,
   "outputs": [],
   "source": [
    "import pandas as pd\n",
    "import numpy as np\n",
    "from IPython.display import display"
   ],
   "metadata": {
    "collapsed": false
   }
  },
  {
   "cell_type": "code",
   "execution_count": 2,
   "outputs": [
    {
     "name": "stdout",
     "output_type": "stream",
     "text": [
      "laptop\n"
     ]
    },
    {
     "data": {
      "text/plain": "                      pytorch         keras\nlib import       3.329+-0.055  1.805+-0.046\nmodel load       0.001+-0.000  0.001+-0.000\nmodel inference  0.036+-0.014  0.028+-0.001",
      "text/html": "<div>\n<style scoped>\n    .dataframe tbody tr th:only-of-type {\n        vertical-align: middle;\n    }\n\n    .dataframe tbody tr th {\n        vertical-align: top;\n    }\n\n    .dataframe thead th {\n        text-align: right;\n    }\n</style>\n<table border=\"1\" class=\"dataframe\">\n  <thead>\n    <tr style=\"text-align: right;\">\n      <th></th>\n      <th>pytorch</th>\n      <th>keras</th>\n    </tr>\n  </thead>\n  <tbody>\n    <tr>\n      <th>lib import</th>\n      <td>3.329+-0.055</td>\n      <td>1.805+-0.046</td>\n    </tr>\n    <tr>\n      <th>model load</th>\n      <td>0.001+-0.000</td>\n      <td>0.001+-0.000</td>\n    </tr>\n    <tr>\n      <th>model inference</th>\n      <td>0.036+-0.014</td>\n      <td>0.028+-0.001</td>\n    </tr>\n  </tbody>\n</table>\n</div>"
     },
     "metadata": {},
     "output_type": "display_data"
    },
    {
     "name": "stdout",
     "output_type": "stream",
     "text": [
      "RPi\n"
     ]
    },
    {
     "data": {
      "text/plain": "                       pytorch         keras\nlib import       13.785+-0.087  5.862+-0.529\nmodel load        0.004+-0.000  0.004+-0.001\nmodel inference   0.672+-0.226  0.644+-0.081",
      "text/html": "<div>\n<style scoped>\n    .dataframe tbody tr th:only-of-type {\n        vertical-align: middle;\n    }\n\n    .dataframe tbody tr th {\n        vertical-align: top;\n    }\n\n    .dataframe thead th {\n        text-align: right;\n    }\n</style>\n<table border=\"1\" class=\"dataframe\">\n  <thead>\n    <tr style=\"text-align: right;\">\n      <th></th>\n      <th>pytorch</th>\n      <th>keras</th>\n    </tr>\n  </thead>\n  <tbody>\n    <tr>\n      <th>lib import</th>\n      <td>13.785+-0.087</td>\n      <td>5.862+-0.529</td>\n    </tr>\n    <tr>\n      <th>model load</th>\n      <td>0.004+-0.000</td>\n      <td>0.004+-0.001</td>\n    </tr>\n    <tr>\n      <th>model inference</th>\n      <td>0.672+-0.226</td>\n      <td>0.644+-0.081</td>\n    </tr>\n  </tbody>\n</table>\n</div>"
     },
     "metadata": {},
     "output_type": "display_data"
    }
   ],
   "source": [
    "for device in ('laptop', 'RPi'):\n",
    "    df = pd.read_json('temp/times_{}.json'.format(device))\n",
    "    for model in df:\n",
    "        df[model]['lib import'] = '{:.3f}+-{:.3f}'.format(np.mean(df[model]['lib import']),\n",
    "                                                          np.std(df[model]['lib import']))\n",
    "        df[model]['model load'] = '{:.3f}+-{:.3f}'.format(np.mean(df[model]['model load']),\n",
    "                                                          np.std(df[model]['model load']))\n",
    "        df[model]['model inference'] = '{:.3f}+-{:.3f}'.format(np.mean(df[model]['model inference']),\n",
    "                                                               np.std(df[model]['model inference']))\n",
    "        df[str(model).replace('intent_classifier_', '')] = df[model]\n",
    "        del df[model]\n",
    "\n",
    "    print(device)\n",
    "    display(df)\n"
   ],
   "metadata": {
    "collapsed": false
   }
  },
  {
   "cell_type": "code",
   "execution_count": 18,
   "outputs": [
    {
     "data": {
      "text/plain": "<Figure size 432x288 with 1 Axes>",
      "image/png": "[encoded data removed]"
     },
     "metadata": {
      "needs_background": "light"
     },
     "output_type": "display_data"
    },
    {
     "name": "stdout",
     "output_type": "stream",
     "text": [
      "mean: 0.036\n",
      "mean: 0.031\n",
      "std: 0.014\n",
      "std: 0.001\n",
      "mean: 0.672\n",
      "mean: 0.604\n",
      "std: 0.226\n",
      "std: 0.105\n"
     ]
    }
   ],
   "source": [
    "import matplotlib.pyplot as plt\n",
    "import json\n",
    "\n",
    "with open('temp/times_laptop.json') as f:\n",
    "    data_laptop = json.load(f)\n",
    "\n",
    "with open('temp/times_RPi.json') as f:\n",
    "    data_RPi = json.load(f)\n",
    "\n",
    "# scatter of inference time for pytorch on laptop and RPi\n",
    "plt.rcParams.update({'font.size': 15})\n",
    "plt.scatter([1, 2, 3, 4, 5, 6, 7, 8, 9, 10], data_laptop['intent_classifier_pytorch']['model inference'])\n",
    "plt.scatter([1, 2, 3, 4, 5, 6, 7, 8, 9, 10], data_RPi['intent_classifier_pytorch']['model inference'])\n",
    "plt.title('Inference time for Pytorch on laptop and RPi', fontsize=15)\n",
    "plt.ylabel('Time in seconds (log scale)', fontsize=15)\n",
    "# y label to log scale\n",
    "plt.yscale('log')\n",
    "plt.xlabel('Realization', fontsize=15)\n",
    "plt.grid()\n",
    "plt.legend(['laptop', 'RPi'])\n",
    "plt.savefig('pytorch_first_out.pdf', bbox_inches='tight')\n",
    "plt.show()\n",
    "\n",
    "print('mean: {:.3f}'.format(np.mean(data_laptop['intent_classifier_pytorch']['model inference'])))\n",
    "print('mean: {:.3f}'.format(np.mean(data_laptop['intent_classifier_pytorch']['model inference'][1:])))\n",
    "print('std: {:.3f}'.format(np.std(data_laptop['intent_classifier_pytorch']['model inference'])))\n",
    "print('std: {:.3f}'.format(np.std(data_laptop['intent_classifier_pytorch']['model inference'][1:])))\n",
    "\n",
    "print('mean: {:.3f}'.format(np.mean(data_RPi['intent_classifier_pytorch']['model inference'])))\n",
    "print('mean: {:.3f}'.format(np.mean(data_RPi['intent_classifier_pytorch']['model inference'][1:])))\n",
    "print('std: {:.3f}'.format(np.std(data_RPi['intent_classifier_pytorch']['model inference'])))\n",
    "print('std: {:.3f}'.format(np.std(data_RPi['intent_classifier_pytorch']['model inference'][1:])))\n"
   ],
   "metadata": {
    "collapsed": false
   }
  },
  {
   "cell_type": "code",
   "execution_count": 3,
   "outputs": [],
   "source": [
    "\n"
   ],
   "metadata": {
    "collapsed": false
   }
  }
 ],
 "metadata": {
  "kernelspec": {
   "display_name": "Python 3",
   "language": "python",
   "name": "python3"
  },
  "language_info": {
   "codemirror_mode": {
    "name": "ipython",
    "version": 2
   },
   "file_extension": ".py",
   "mimetype": "text/x-python",
   "name": "python",
   "nbconvert_exporter": "python",
   "pygments_lexer": "ipython2",
   "version": "2.7.6"
  }
 },
 "nbformat": 4,
 "nbformat_minor": 0
}
