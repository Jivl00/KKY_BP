{
 "cells": [
  {
   "cell_type": "code",
   "execution_count": 26,
   "metadata": {
    "collapsed": true
   },
   "outputs": [],
   "source": [
    "import pandas as pd\n",
    "import numpy as np\n",
    "from IPython.display import display"
   ]
  },
  {
   "cell_type": "code",
   "execution_count": 27,
   "outputs": [
    {
     "name": "stdout",
     "output_type": "stream",
     "text": [
      "laptop\n"
     ]
    },
    {
     "data": {
      "text/plain": "                      pytorch         keras\nlib import       7.073+-0.115  1.934+-0.065\nmodel load       0.001+-0.000  0.001+-0.000\nmodel inference  0.034+-0.002  0.030+-0.001",
      "text/html": "<div>\n<style scoped>\n    .dataframe tbody tr th:only-of-type {\n        vertical-align: middle;\n    }\n\n    .dataframe tbody tr th {\n        vertical-align: top;\n    }\n\n    .dataframe thead th {\n        text-align: right;\n    }\n</style>\n<table border=\"1\" class=\"dataframe\">\n  <thead>\n    <tr style=\"text-align: right;\">\n      <th></th>\n      <th>pytorch</th>\n      <th>keras</th>\n    </tr>\n  </thead>\n  <tbody>\n    <tr>\n      <th>lib import</th>\n      <td>7.073+-0.115</td>\n      <td>1.934+-0.065</td>\n    </tr>\n    <tr>\n      <th>model load</th>\n      <td>0.001+-0.000</td>\n      <td>0.001+-0.000</td>\n    </tr>\n    <tr>\n      <th>model inference</th>\n      <td>0.034+-0.002</td>\n      <td>0.030+-0.001</td>\n    </tr>\n  </tbody>\n</table>\n</div>"
     },
     "metadata": {},
     "output_type": "display_data"
    },
    {
     "name": "stdout",
     "output_type": "stream",
     "text": [
      "RPi\n"
     ]
    },
    {
     "data": {
      "text/plain": "                       pytorch         keras\nlib import       18.326+-4.559  4.674+-0.096\nmodel load        0.004+-0.000  0.003+-0.000\nmodel inference   0.277+-0.004  0.270+-0.004",
      "text/html": "<div>\n<style scoped>\n    .dataframe tbody tr th:only-of-type {\n        vertical-align: middle;\n    }\n\n    .dataframe tbody tr th {\n        vertical-align: top;\n    }\n\n    .dataframe thead th {\n        text-align: right;\n    }\n</style>\n<table border=\"1\" class=\"dataframe\">\n  <thead>\n    <tr style=\"text-align: right;\">\n      <th></th>\n      <th>pytorch</th>\n      <th>keras</th>\n    </tr>\n  </thead>\n  <tbody>\n    <tr>\n      <th>lib import</th>\n      <td>18.326+-4.559</td>\n      <td>4.674+-0.096</td>\n    </tr>\n    <tr>\n      <th>model load</th>\n      <td>0.004+-0.000</td>\n      <td>0.003+-0.000</td>\n    </tr>\n    <tr>\n      <th>model inference</th>\n      <td>0.277+-0.004</td>\n      <td>0.270+-0.004</td>\n    </tr>\n  </tbody>\n</table>\n</div>"
     },
     "metadata": {},
     "output_type": "display_data"
    },
    {
     "name": "stdout",
     "output_type": "stream",
     "text": [
      "KKY_PC\n"
     ]
    },
    {
     "data": {
      "text/plain": "                      pytorch         keras\nlib import       6.856+-0.042  1.047+-0.003\nmodel load       1.321+-0.012  0.001+-0.000\nmodel inference  0.223+-0.005  0.007+-0.000",
      "text/html": "<div>\n<style scoped>\n    .dataframe tbody tr th:only-of-type {\n        vertical-align: middle;\n    }\n\n    .dataframe tbody tr th {\n        vertical-align: top;\n    }\n\n    .dataframe thead th {\n        text-align: right;\n    }\n</style>\n<table border=\"1\" class=\"dataframe\">\n  <thead>\n    <tr style=\"text-align: right;\">\n      <th></th>\n      <th>pytorch</th>\n      <th>keras</th>\n    </tr>\n  </thead>\n  <tbody>\n    <tr>\n      <th>lib import</th>\n      <td>6.856+-0.042</td>\n      <td>1.047+-0.003</td>\n    </tr>\n    <tr>\n      <th>model load</th>\n      <td>1.321+-0.012</td>\n      <td>0.001+-0.000</td>\n    </tr>\n    <tr>\n      <th>model inference</th>\n      <td>0.223+-0.005</td>\n      <td>0.007+-0.000</td>\n    </tr>\n  </tbody>\n</table>\n</div>"
     },
     "metadata": {},
     "output_type": "display_data"
    }
   ],
   "source": [
    "for device in ('laptop', 'RPi', 'KKY_PC'):\n",
    "    df = pd.read_json('temp/times_{}.json'.format(device))\n",
    "    for model in df:\n",
    "        df[model]['lib import'] = '{:.3f}+-{:.3f}'.format(np.mean(df[model]['lib import']),\n",
    "                                                          np.std(df[model]['lib import']))\n",
    "        df[model]['model load'] = '{:.3f}+-{:.3f}'.format(np.mean(df[model]['model load']),\n",
    "                                                          np.std(df[model]['model load']))\n",
    "        df[model]['model inference'] = '{:.3f}+-{:.3f}'.format(np.mean(df[model]['model inference']),\n",
    "                                                               np.std(df[model]['model inference']))\n",
    "        df[str(model).replace('intent_classifier_', '')] = df[model]\n",
    "        del df[model]\n",
    "\n",
    "    print(device)\n",
    "    display(df)"
   ],
   "metadata": {
    "collapsed": false,
    "pycharm": {
     "name": "#%%\n"
    }
   }
  }
 ],
 "metadata": {
  "kernelspec": {
   "display_name": "Python 3",
   "language": "python",
   "name": "python3"
  },
  "language_info": {
   "codemirror_mode": {
    "name": "ipython",
    "version": 2
   },
   "file_extension": ".py",
   "mimetype": "text/x-python",
   "name": "python",
   "nbconvert_exporter": "python",
   "pygments_lexer": "ipython2",
   "version": "2.7.6"
  }
 },
 "nbformat": 4,
 "nbformat_minor": 0
}