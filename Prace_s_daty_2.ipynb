{
 "cells": [
  {
   "cell_type": "code",
   "execution_count": 1,
   "id": "b95ea0ab-081c-4226-ac3d-945fa97ce47d",
   "metadata": {},
   "outputs": [],
   "source": [
    "## 2/ spustit trénování pouze na prvních 10K vzorcích - jaká je zhruba úspěšnost? kolikrát je každá z tříd v prvních 10K vzorcích zastoupena?"
   ]
  },
  {
   "cell_type": "code",
   "execution_count": 2,
   "id": "cb3274d4-f23d-4100-8f37-f416fbe1ee17",
   "metadata": {},
   "outputs": [
    {
     "name": "stdout",
     "output_type": "stream",
     "text": [
      "x_train shape: (10000, 28, 28, 1)\n",
      "10000 train samples\n",
      "10000 test samples\n"
     ]
    }
   ],
   "source": [
    "import numpy as np\n",
    "from tensorflow import keras\n",
    "from tensorflow.keras import layers\n",
    "\n",
    "num_classes = 10\n",
    "input_shape = (28, 28, 1)\n",
    "\n",
    "\n",
    "(x_train, y_train), (x_test, y_test) = keras.datasets.mnist.load_data()\n",
    "\n",
    "#vybrani 10K trenovacich dat\n",
    "x_train = x_train[:10000]\n",
    "y_train = y_train[:10000]\n",
    "\n",
    "#pocitadlo vyskytu trid\n",
    "occurrences = [0]*10\n",
    "for y in y_train:\n",
    "    occurrences[y]+=1\n",
    "\n",
    "x_train = x_train.astype(\"float32\") / 255\n",
    "x_test = x_test.astype(\"float32\") / 255\n",
    "\n",
    "x_train = np.expand_dims(x_train, -1)\n",
    "x_test = np.expand_dims(x_test, -1)\n",
    "print(\"x_train shape:\", x_train.shape)\n",
    "print(x_train.shape[0], \"train samples\")\n",
    "print(x_test.shape[0], \"test samples\")\n",
    "\n",
    "\n",
    "y_train = keras.utils.to_categorical(y_train, num_classes)\n",
    "y_test = keras.utils.to_categorical(y_test, num_classes)\n"
   ]
  },
  {
   "cell_type": "code",
   "execution_count": 3,
   "id": "5340eee7-469c-4960-9846-2d82ac4678bd",
   "metadata": {},
   "outputs": [
    {
     "name": "stdout",
     "output_type": "stream",
     "text": [
      "Model: \"sequential\"\n",
      "_________________________________________________________________\n",
      "Layer (type)                 Output Shape              Param #   \n",
      "=================================================================\n",
      "conv2d (Conv2D)              (None, 26, 26, 32)        320       \n",
      "_________________________________________________________________\n",
      "max_pooling2d (MaxPooling2D) (None, 13, 13, 32)        0         \n",
      "_________________________________________________________________\n",
      "conv2d_1 (Conv2D)            (None, 11, 11, 64)        18496     \n",
      "_________________________________________________________________\n",
      "max_pooling2d_1 (MaxPooling2 (None, 5, 5, 64)          0         \n",
      "_________________________________________________________________\n",
      "flatten (Flatten)            (None, 1600)              0         \n",
      "_________________________________________________________________\n",
      "dropout (Dropout)            (None, 1600)              0         \n",
      "_________________________________________________________________\n",
      "dense (Dense)                (None, 10)                16010     \n",
      "=================================================================\n",
      "Total params: 34,826\n",
      "Trainable params: 34,826\n",
      "Non-trainable params: 0\n",
      "_________________________________________________________________\n"
     ]
    }
   ],
   "source": [
    "model = keras.Sequential(\n",
    "    [\n",
    "        keras.Input(shape=input_shape),\n",
    "        layers.Conv2D(32, kernel_size=(3, 3), activation=\"relu\"),\n",
    "        layers.MaxPooling2D(pool_size=(2, 2)),\n",
    "        layers.Conv2D(64, kernel_size=(3, 3), activation=\"relu\"),\n",
    "        layers.MaxPooling2D(pool_size=(2, 2)),\n",
    "        layers.Flatten(),\n",
    "        layers.Dropout(0.5),\n",
    "        layers.Dense(num_classes, activation=\"softmax\"),\n",
    "    ]\n",
    ")\n",
    "\n",
    "model.summary()\n"
   ]
  },
  {
   "cell_type": "code",
   "execution_count": null,
   "id": "89fa404f-95a6-4176-9718-45a33869d16a",
   "metadata": {},
   "outputs": [
    {
     "name": "stdout",
     "output_type": "stream",
     "text": [
      "Epoch 1/15\n",
      "71/71 [==============================] - 2s 29ms/step - loss: 1.1267 - accuracy: 0.6667 - val_loss: 0.3274 - val_accuracy: 0.9150\n",
      "Epoch 2/15\n",
      "71/71 [==============================] - 2s 27ms/step - loss: 0.3287 - accuracy: 0.9032 - val_loss: 0.2055 - val_accuracy: 0.9390\n",
      "Epoch 3/15\n",
      "71/71 [==============================] - 2s 28ms/step - loss: 0.2282 - accuracy: 0.9338 - val_loss: 0.1515 - val_accuracy: 0.9550\n",
      "Epoch 4/15\n",
      "71/71 [==============================] - 2s 28ms/step - loss: 0.1842 - accuracy: 0.9466 - val_loss: 0.1323 - val_accuracy: 0.9600\n",
      "Epoch 5/15\n",
      "71/71 [==============================] - 2s 27ms/step - loss: 0.1535 - accuracy: 0.9536 - val_loss: 0.1101 - val_accuracy: 0.9670\n",
      "Epoch 6/15\n",
      "71/71 [==============================] - 2s 27ms/step - loss: 0.1334 - accuracy: 0.9596 - val_loss: 0.0949 - val_accuracy: 0.9730\n",
      "Epoch 7/15\n",
      "71/71 [==============================] - 2s 27ms/step - loss: 0.1181 - accuracy: 0.9654 - val_loss: 0.0924 - val_accuracy: 0.9740\n",
      "Epoch 8/15\n",
      "71/71 [==============================] - 2s 27ms/step - loss: 0.1082 - accuracy: 0.9666 - val_loss: 0.0884 - val_accuracy: 0.9760\n",
      "Epoch 9/15\n",
      "71/71 [==============================] - 2s 27ms/step - loss: 0.0982 - accuracy: 0.9709 - val_loss: 0.0828 - val_accuracy: 0.9740\n",
      "Epoch 10/15\n",
      "71/71 [==============================] - 2s 27ms/step - loss: 0.0880 - accuracy: 0.9730 - val_loss: 0.0754 - val_accuracy: 0.9770\n",
      "Epoch 11/15\n",
      "71/71 [==============================] - 2s 27ms/step - loss: 0.0764 - accuracy: 0.9764 - val_loss: 0.0780 - val_accuracy: 0.9760\n",
      "Epoch 12/15\n",
      "71/71 [==============================] - 2s 27ms/step - loss: 0.0795 - accuracy: 0.9760 - val_loss: 0.0726 - val_accuracy: 0.9790\n",
      "Epoch 13/15\n",
      "24/71 [=========>....................] - ETA: 1s - loss: 0.0783 - accuracy: 0.9785"
     ]
    }
   ],
   "source": [
    "batch_size = 128\n",
    "epochs = 15\n",
    "\n",
    "model.compile(loss=\"categorical_crossentropy\", optimizer=\"adam\", metrics=[\"accuracy\"])\n",
    "\n",
    "model.fit(x_train, y_train, batch_size=batch_size, epochs=epochs, validation_split=0.1)\n"
   ]
  },
  {
   "cell_type": "code",
   "execution_count": null,
   "id": "e5c3f2b7-5081-40e9-8ce0-3e6cb03cad98",
   "metadata": {},
   "outputs": [],
   "source": [
    "score = model.evaluate(x_test, y_test, verbose=0)\n",
    "#uspesnost\n",
    "print(\"Test loss:\", score[0])\n",
    "print(\"Test accuracy:\", score[1])"
   ]
  },
  {
   "cell_type": "code",
   "execution_count": null,
   "id": "4eb74a8d-7633-4fb0-a0c2-9406b139454b",
   "metadata": {},
   "outputs": [],
   "source": [
    "for i, occ in enumerate(occurrences):\n",
    "    print('Cislo {} se ve vzorcich vyskytuje {}.'.format(str(i), occ))"
   ]
  }
 ],
 "metadata": {
  "kernelspec": {
   "display_name": "Python 3 (ipykernel)",
   "language": "python",
   "name": "python3"
  },
  "language_info": {
   "codemirror_mode": {
    "name": "ipython",
    "version": 3
   },
   "file_extension": ".py",
   "mimetype": "text/x-python",
   "name": "python",
   "nbconvert_exporter": "python",
   "pygments_lexer": "ipython3",
   "version": "3.9.5"
  }
 },
 "nbformat": 4,
 "nbformat_minor": 5
}
