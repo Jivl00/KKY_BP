{
 "cells": [
  {
   "cell_type": "code",
   "execution_count": 1,
   "id": "b95ea0ab-081c-4226-ac3d-945fa97ce47d",
   "metadata": {},
   "outputs": [],
   "source": [
    "## 2/ spustit trénování pouze na prvních 10K vzorcích - jaká je zhruba úspěšnost? kolikrát je každá z tříd v prvních 10K vzorcích zastoupena?"
   ]
  },
  {
   "cell_type": "code",
   "execution_count": 2,
   "id": "cb3274d4-f23d-4100-8f37-f416fbe1ee17",
   "metadata": {},
   "outputs": [
    {
     "name": "stdout",
     "output_type": "stream",
     "text": [
      "x_train shape: (10000, 28, 28, 1)\n",
      "10000 train samples\n",
      "10000 test samples\n"
     ]
    }
   ],
   "source": [
    "import numpy as np\n",
    "from tensorflow import keras\n",
    "from tensorflow.keras import layers\n",
    "\n",
    "num_classes = 10\n",
    "input_shape = (28, 28, 1)\n",
    "\n",
    "\n",
    "(x_train, y_train), (x_test, y_test) = keras.datasets.mnist.load_data()\n",
    "\n",
    "#vybrani 10K trenovacich dat\n",
    "x_train = x_train[:10000]\n",
    "y_train = y_train[:10000]\n",
    "\n",
    "#pocitadlo vyskytu trid\n",
    "occurrences = [0]*10\n",
    "for y in y_train:\n",
    "    occurrences[y]+=1\n",
    "\n",
    "x_train = x_train.astype(\"float32\") / 255\n",
    "x_test = x_test.astype(\"float32\") / 255\n",
    "\n",
    "x_train = np.expand_dims(x_train, -1)\n",
    "x_test = np.expand_dims(x_test, -1)\n",
    "print(\"x_train shape:\", x_train.shape)\n",
    "print(x_train.shape[0], \"train samples\")\n",
    "print(x_test.shape[0], \"test samples\")\n",
    "\n",
    "\n",
    "y_train = keras.utils.to_categorical(y_train, num_classes)\n",
    "y_test = keras.utils.to_categorical(y_test, num_classes)\n"
   ]
  },
  {
   "cell_type": "code",
   "execution_count": 3,
   "id": "5340eee7-469c-4960-9846-2d82ac4678bd",
   "metadata": {},
   "outputs": [
    {
     "name": "stdout",
     "output_type": "stream",
     "text": [
      "Model: \"sequential\"\n",
      "_________________________________________________________________\n",
      "Layer (type)                 Output Shape              Param #   \n",
      "=================================================================\n",
      "conv2d (Conv2D)              (None, 26, 26, 32)        320       \n",
      "_________________________________________________________________\n",
      "max_pooling2d (MaxPooling2D) (None, 13, 13, 32)        0         \n",
      "_________________________________________________________________\n",
      "conv2d_1 (Conv2D)            (None, 11, 11, 64)        18496     \n",
      "_________________________________________________________________\n",
      "max_pooling2d_1 (MaxPooling2 (None, 5, 5, 64)          0         \n",
      "_________________________________________________________________\n",
      "flatten (Flatten)            (None, 1600)              0         \n",
      "_________________________________________________________________\n",
      "dropout (Dropout)            (None, 1600)              0         \n",
      "_________________________________________________________________\n",
      "dense (Dense)                (None, 10)                16010     \n",
      "=================================================================\n",
      "Total params: 34,826\n",
      "Trainable params: 34,826\n",
      "Non-trainable params: 0\n",
      "_________________________________________________________________\n"
     ]
    }
   ],
   "source": [
    "model = keras.Sequential(\n",
    "    [\n",
    "        keras.Input(shape=input_shape),\n",
    "        layers.Conv2D(32, kernel_size=(3, 3), activation=\"relu\"),\n",
    "        layers.MaxPooling2D(pool_size=(2, 2)),\n",
    "        layers.Conv2D(64, kernel_size=(3, 3), activation=\"relu\"),\n",
    "        layers.MaxPooling2D(pool_size=(2, 2)),\n",
    "        layers.Flatten(),\n",
    "        layers.Dropout(0.5),\n",
    "        layers.Dense(num_classes, activation=\"softmax\"),\n",
    "    ]\n",
    ")\n",
    "\n",
    "model.summary()\n"
   ]
  },
  {
   "cell_type": "code",
   "execution_count": 4,
   "id": "89fa404f-95a6-4176-9718-45a33869d16a",
   "metadata": {},
   "outputs": [
    {
     "name": "stdout",
     "output_type": "stream",
     "text": [
      "Epoch 1/15\n",
      "71/71 [==============================] - 2s 29ms/step - loss: 1.0922 - accuracy: 0.6913 - val_loss: 0.3183 - val_accuracy: 0.9040\n",
      "Epoch 2/15\n",
      "71/71 [==============================] - 2s 27ms/step - loss: 0.3194 - accuracy: 0.9046 - val_loss: 0.1989 - val_accuracy: 0.9460\n",
      "Epoch 3/15\n",
      "71/71 [==============================] - 2s 27ms/step - loss: 0.2171 - accuracy: 0.9348 - val_loss: 0.1569 - val_accuracy: 0.9520\n",
      "Epoch 4/15\n",
      "71/71 [==============================] - 2s 27ms/step - loss: 0.1743 - accuracy: 0.9489 - val_loss: 0.1294 - val_accuracy: 0.9600\n",
      "Epoch 5/15\n",
      "71/71 [==============================] - 2s 27ms/step - loss: 0.1501 - accuracy: 0.9560 - val_loss: 0.1156 - val_accuracy: 0.9710\n",
      "Epoch 6/15\n",
      "71/71 [==============================] - 2s 27ms/step - loss: 0.1292 - accuracy: 0.9603 - val_loss: 0.0974 - val_accuracy: 0.9770\n",
      "Epoch 7/15\n",
      "71/71 [==============================] - 2s 26ms/step - loss: 0.1141 - accuracy: 0.9658 - val_loss: 0.0961 - val_accuracy: 0.9740\n",
      "Epoch 8/15\n",
      "71/71 [==============================] - 2s 27ms/step - loss: 0.1003 - accuracy: 0.9717 - val_loss: 0.0844 - val_accuracy: 0.9780\n",
      "Epoch 9/15\n",
      "71/71 [==============================] - 2s 28ms/step - loss: 0.1025 - accuracy: 0.9683 - val_loss: 0.0842 - val_accuracy: 0.9770\n",
      "Epoch 10/15\n",
      "71/71 [==============================] - 2s 27ms/step - loss: 0.0886 - accuracy: 0.9732 - val_loss: 0.0758 - val_accuracy: 0.9800\n",
      "Epoch 11/15\n",
      "71/71 [==============================] - 2s 28ms/step - loss: 0.0820 - accuracy: 0.9774 - val_loss: 0.0790 - val_accuracy: 0.9760\n",
      "Epoch 12/15\n",
      "71/71 [==============================] - 2s 27ms/step - loss: 0.0759 - accuracy: 0.9769 - val_loss: 0.0793 - val_accuracy: 0.9780\n",
      "Epoch 13/15\n",
      "71/71 [==============================] - 2s 29ms/step - loss: 0.0799 - accuracy: 0.9740 - val_loss: 0.0741 - val_accuracy: 0.9780\n",
      "Epoch 14/15\n",
      "71/71 [==============================] - 2s 28ms/step - loss: 0.0697 - accuracy: 0.9787 - val_loss: 0.0652 - val_accuracy: 0.9820\n",
      "Epoch 15/15\n",
      "71/71 [==============================] - 2s 28ms/step - loss: 0.0648 - accuracy: 0.9789 - val_loss: 0.0637 - val_accuracy: 0.9840\n"
     ]
    },
    {
     "data": {
      "text/plain": [
       "<keras.callbacks.History at 0x11bd9a5b880>"
      ]
     },
     "execution_count": 4,
     "metadata": {},
     "output_type": "execute_result"
    }
   ],
   "source": [
    "batch_size = 128\n",
    "epochs = 15\n",
    "\n",
    "model.compile(loss=\"categorical_crossentropy\", optimizer=\"adam\", metrics=[\"accuracy\"])\n",
    "\n",
    "model.fit(x_train, y_train, batch_size=batch_size, epochs=epochs, validation_split=0.1)\n"
   ]
  },
  {
   "cell_type": "code",
   "execution_count": 5,
   "id": "e5c3f2b7-5081-40e9-8ce0-3e6cb03cad98",
   "metadata": {},
   "outputs": [
    {
     "name": "stdout",
     "output_type": "stream",
     "text": [
      "Test loss: 0.06029188260436058\n",
      "Test accuracy: 0.9800000190734863\n"
     ]
    }
   ],
   "source": [
    "score = model.evaluate(x_test, y_test, verbose=0)\n",
    "#uspesnost\n",
    "print(\"Test loss:\", score[0])\n",
    "print(\"Test accuracy:\", score[1])"
   ]
  },
  {
   "cell_type": "code",
   "execution_count": 6,
   "id": "4eb74a8d-7633-4fb0-a0c2-9406b139454b",
   "metadata": {},
   "outputs": [
    {
     "name": "stdout",
     "output_type": "stream",
     "text": [
      "Cislo 0 se ve vzorcich vyskytuje 1001.\n",
      "Cislo 1 se ve vzorcich vyskytuje 1127.\n",
      "Cislo 2 se ve vzorcich vyskytuje 991.\n",
      "Cislo 3 se ve vzorcich vyskytuje 1032.\n",
      "Cislo 4 se ve vzorcich vyskytuje 980.\n",
      "Cislo 5 se ve vzorcich vyskytuje 863.\n",
      "Cislo 6 se ve vzorcich vyskytuje 1014.\n",
      "Cislo 7 se ve vzorcich vyskytuje 1070.\n",
      "Cislo 8 se ve vzorcich vyskytuje 944.\n",
      "Cislo 9 se ve vzorcich vyskytuje 978.\n"
     ]
    }
   ],
   "source": [
    "for i, occ in enumerate(occurrences):\n",
    "    print('Cislo {} se ve vzorcich vyskytuje {}.'.format(str(i), occ))"
   ]
  },
  {
   "cell_type": "markdown",
   "id": "64dc1131-b4cd-494a-8d91-9ec8a7faba12",
   "metadata": {},
   "source": [
    "[kitt] Fajn, ověřili jsme tedy, že třídy jsou v trénovací množině neseřazené, ale (prakticky asi náhodně) namíchané, což nám přineslo (skoro stejné) zastoupení všech tříd v prvních 10K vzorcích a ne tak významný pokles výsledné úspěšnosti klasifikace."
   ]
  }
 ],
 "metadata": {
  "kernelspec": {
   "display_name": "Python 3",
   "language": "python",
   "name": "python3"
  },
  "language_info": {
   "codemirror_mode": {
    "name": "ipython",
    "version": 3
   },
   "file_extension": ".py",
   "mimetype": "text/x-python",
   "name": "python",
   "nbconvert_exporter": "python",
   "pygments_lexer": "ipython3",
   "version": "3.7.11"
  }
 },
 "nbformat": 4,
 "nbformat_minor": 5
}
