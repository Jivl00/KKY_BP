{
 "cells": [
  {
   "cell_type": "code",
   "execution_count": 1,
   "source": [
    "## 3/ spustit trénování pouze pro třídy 8 a 6 (klasifikační problém, kdy se snažíme rozeznat osmičku od šestky), kolik vzorků z každé třídy používáme? jaká je úspěšnost?"
   ],
   "outputs": [],
   "metadata": {}
  },
  {
   "cell_type": "code",
   "execution_count": 2,
   "source": [
    "import numpy as np\n",
    "from tensorflow import keras\n",
    "from tensorflow.keras import layers\n",
    "\n",
    "num_classes = 10\n",
    "input_shape = (28, 28, 1)\n",
    "\n",
    "(x_train, y_train), (x_test, y_test) = keras.datasets.mnist.load_data()\n",
    "\n",
    "#pomocne listy pro ukladani dat\n",
    "x_train_list, y_train_list, x_test_list, y_test_list = [], [], [], []\n",
    "counter = [0]*4\n",
    "\n",
    "for i, y in enumerate(y_train):\n",
    "    if y == 6:\n",
    "        y_train_list.append(y)\n",
    "        x_train_list.append(x_train[i])\n",
    "        counter[0]+=1\n",
    "    elif y == 8:\n",
    "        y_train_list.append(y)\n",
    "        x_train_list.append(x_train[i])\n",
    "        counter[1]+=1\n",
    "\n",
    "for i, y in enumerate(y_test):\n",
    "    if y == 6:\n",
    "        y_test_list.append(y)\n",
    "        x_test_list.append(x_test[i])\n",
    "        counter[2]+=1\n",
    "    elif y == 8:\n",
    "        y_test_list.append(y)\n",
    "        x_test_list.append(x_test[i])\n",
    "        counter[3]+=1\n",
    "        \n",
    "x_train, y_train, x_test, y_test = np.array(x_train_list), np.array(y_train_list), np.array(x_test_list), np.array(y_test_list)\n",
    "\n",
    "x_train = x_train.astype(\"float32\") / 255\n",
    "x_test = x_test.astype(\"float32\") / 255\n",
    "\n",
    "x_train = np.expand_dims(x_train, -1)\n",
    "x_test = np.expand_dims(x_test, -1)\n",
    "\n",
    "print('{} train samples ({}x 6, {}x 8)'.format(x_train.shape[0], counter[0], counter[1]))\n",
    "print('{} test samples ({}x 6, {}x 8)'.format(x_test.shape[0], counter[2], counter[3]))\n",
    "\n",
    "\n",
    "y_train = keras.utils.to_categorical(y_train, num_classes)\n",
    "y_test = keras.utils.to_categorical(y_test, num_classes)\n"
   ],
   "outputs": [
    {
     "output_type": "stream",
     "name": "stdout",
     "text": [
      "11769 train samples (5918x 6, 5851x 8)\n",
      "1932 test samples (958x 6, 974x 8)\n"
     ]
    }
   ],
   "metadata": {}
  },
  {
   "cell_type": "markdown",
   "source": [
    "[kitt] Hezky vyřešeno. U counter by šlo alternativně využít i Dictionary, třeba: counter = {'train_6': 0, 'train_8': 0, 'test_6': 0, 'test_8': 0} a poté se přistupuje: counter['train_6'] += 1 atd. (kolem \"+=\" bych psal mezery... :-) Jinak pecka."
   ],
   "metadata": {}
  },
  {
   "cell_type": "code",
   "execution_count": 3,
   "source": [
    "model = keras.Sequential(\n",
    "    [\n",
    "        keras.Input(shape=input_shape),\n",
    "        layers.Conv2D(32, kernel_size=(3, 3), activation=\"relu\"),\n",
    "        layers.MaxPooling2D(pool_size=(2, 2)),\n",
    "        layers.Conv2D(64, kernel_size=(3, 3), activation=\"relu\"),\n",
    "        layers.MaxPooling2D(pool_size=(2, 2)),\n",
    "        layers.Flatten(),\n",
    "        layers.Dropout(0.5),\n",
    "        layers.Dense(num_classes, activation=\"softmax\"),\n",
    "    ]\n",
    ")\n",
    "\n",
    "model.summary()\n"
   ],
   "outputs": [
    {
     "output_type": "stream",
     "name": "stdout",
     "text": [
      "Model: \"sequential\"\n",
      "_________________________________________________________________\n",
      "Layer (type)                 Output Shape              Param #   \n",
      "=================================================================\n",
      "conv2d (Conv2D)              (None, 26, 26, 32)        320       \n",
      "_________________________________________________________________\n",
      "max_pooling2d (MaxPooling2D) (None, 13, 13, 32)        0         \n",
      "_________________________________________________________________\n",
      "conv2d_1 (Conv2D)            (None, 11, 11, 64)        18496     \n",
      "_________________________________________________________________\n",
      "max_pooling2d_1 (MaxPooling2 (None, 5, 5, 64)          0         \n",
      "_________________________________________________________________\n",
      "flatten (Flatten)            (None, 1600)              0         \n",
      "_________________________________________________________________\n",
      "dropout (Dropout)            (None, 1600)              0         \n",
      "_________________________________________________________________\n",
      "dense (Dense)                (None, 10)                16010     \n",
      "=================================================================\n",
      "Total params: 34,826\n",
      "Trainable params: 34,826\n",
      "Non-trainable params: 0\n",
      "_________________________________________________________________\n"
     ]
    }
   ],
   "metadata": {}
  },
  {
   "cell_type": "code",
   "execution_count": 4,
   "source": [
    "batch_size = 128\n",
    "epochs = 15\n",
    "\n",
    "model.compile(loss=\"categorical_crossentropy\", optimizer=\"adam\", metrics=[\"accuracy\"])\n",
    "\n",
    "model.fit(x_train, y_train, batch_size=batch_size, epochs=epochs, validation_split=0.1)\n"
   ],
   "outputs": [
    {
     "output_type": "stream",
     "name": "stdout",
     "text": [
      "Epoch 1/15\n",
      "83/83 [==============================] - 3s 28ms/step - loss: 0.3339 - accuracy: 0.8754 - val_loss: 0.0263 - val_accuracy: 0.9932\n",
      "Epoch 2/15\n",
      "83/83 [==============================] - 2s 27ms/step - loss: 0.0409 - accuracy: 0.9858 - val_loss: 0.0171 - val_accuracy: 0.9949\n",
      "Epoch 3/15\n",
      "83/83 [==============================] - 2s 27ms/step - loss: 0.0262 - accuracy: 0.9909 - val_loss: 0.0128 - val_accuracy: 0.9958\n",
      "Epoch 4/15\n",
      "83/83 [==============================] - 2s 27ms/step - loss: 0.0204 - accuracy: 0.9928 - val_loss: 0.0099 - val_accuracy: 0.9966\n",
      "Epoch 5/15\n",
      "83/83 [==============================] - 2s 27ms/step - loss: 0.0170 - accuracy: 0.9941 - val_loss: 0.0116 - val_accuracy: 0.9966\n",
      "Epoch 6/15\n",
      "83/83 [==============================] - 2s 27ms/step - loss: 0.0156 - accuracy: 0.9950 - val_loss: 0.0121 - val_accuracy: 0.9966\n",
      "Epoch 7/15\n",
      "83/83 [==============================] - 2s 27ms/step - loss: 0.0116 - accuracy: 0.9968 - val_loss: 0.0092 - val_accuracy: 0.9966\n",
      "Epoch 8/15\n",
      "83/83 [==============================] - 2s 28ms/step - loss: 0.0119 - accuracy: 0.9965 - val_loss: 0.0071 - val_accuracy: 0.9966\n",
      "Epoch 9/15\n",
      "83/83 [==============================] - 2s 27ms/step - loss: 0.0106 - accuracy: 0.9964 - val_loss: 0.0115 - val_accuracy: 0.9966\n",
      "Epoch 10/15\n",
      "83/83 [==============================] - 2s 26ms/step - loss: 0.0090 - accuracy: 0.9971 - val_loss: 0.0068 - val_accuracy: 0.9975\n",
      "Epoch 11/15\n",
      "83/83 [==============================] - 2s 27ms/step - loss: 0.0090 - accuracy: 0.9964 - val_loss: 0.0059 - val_accuracy: 0.9975\n",
      "Epoch 12/15\n",
      "83/83 [==============================] - 2s 27ms/step - loss: 0.0080 - accuracy: 0.9970 - val_loss: 0.0085 - val_accuracy: 0.9966\n",
      "Epoch 13/15\n",
      "83/83 [==============================] - 2s 27ms/step - loss: 0.0066 - accuracy: 0.9977 - val_loss: 0.0083 - val_accuracy: 0.9966\n",
      "Epoch 14/15\n",
      "83/83 [==============================] - 2s 27ms/step - loss: 0.0076 - accuracy: 0.9975 - val_loss: 0.0077 - val_accuracy: 0.9966\n",
      "Epoch 15/15\n",
      "83/83 [==============================] - 2s 27ms/step - loss: 0.0070 - accuracy: 0.9978 - val_loss: 0.0078 - val_accuracy: 0.9975\n"
     ]
    },
    {
     "output_type": "execute_result",
     "data": {
      "text/plain": [
       "<keras.callbacks.History at 0x1af723b4250>"
      ]
     },
     "metadata": {},
     "execution_count": 4
    }
   ],
   "metadata": {}
  },
  {
   "cell_type": "code",
   "execution_count": 5,
   "source": [
    "score = model.evaluate(x_test, y_test, verbose=0)\n",
    "#uspesnost\n",
    "print(\"Test loss:\", score[0])\n",
    "print(\"Test accuracy:\", score[1])"
   ],
   "outputs": [
    {
     "output_type": "stream",
     "name": "stdout",
     "text": [
      "Test loss: 0.006161822937428951\n",
      "Test accuracy: 0.998964786529541\n"
     ]
    }
   ],
   "metadata": {}
  }
 ],
 "metadata": {
  "kernelspec": {
   "name": "python3",
   "display_name": "Python 3.7.11 64-bit ('net': conda)"
  },
  "language_info": {
   "codemirror_mode": {
    "name": "ipython",
    "version": 3
   },
   "file_extension": ".py",
   "mimetype": "text/x-python",
   "name": "python",
   "nbconvert_exporter": "python",
   "pygments_lexer": "ipython3",
   "version": "3.7.11"
  },
  "interpreter": {
   "hash": "1c37876aefcb15e4c1ee20d16fbcf177946ad57d07b9a48074fd62aa3b33b6d0"
  }
 },
 "nbformat": 4,
 "nbformat_minor": 5
}